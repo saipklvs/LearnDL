{
  "nbformat": 4,
  "nbformat_minor": 0,
  "metadata": {
    "colab": {
      "provenance": [],
      "authorship_tag": "ABX9TyMl4ciCkI+Wioavumgp0lQv",
      "include_colab_link": true
    },
    "kernelspec": {
      "name": "python3",
      "display_name": "Python 3"
    },
    "language_info": {
      "name": "python"
    }
  },
  "cells": [
    {
      "cell_type": "markdown",
      "metadata": {
        "id": "view-in-github",
        "colab_type": "text"
      },
      "source": [
        "<a href=\"https://colab.research.google.com/github/saipklvs/LearnDL/blob/main/Visualize_models.ipynb\" target=\"_parent\"><img src=\"https://colab.research.google.com/assets/colab-badge.svg\" alt=\"Open In Colab\"/></a>"
      ]
    },
    {
      "cell_type": "markdown",
      "source": [
        "### These are the steps involved in this tutorial\n",
        "1. Read the data with appropriate transforms \n",
        "2. Set up Tensorboard\n",
        "3. Write to Tensorboard\n",
        "4. Inspect a model arcitecture using Tensorboard\n",
        "5. Use the tensorboard to create Interactive versions\n",
        "   a. A couple of ways to inspect our training data\n",
        "   b. How to tract our model's performance as it trains\n",
        "   c. How to assess our model's performance once it is trained"
      ],
      "metadata": {
        "id": "0gevR2DZRum9"
      }
    },
    {
      "cell_type": "code",
      "source": [
        "import matplotlib.pyplot as plt\n",
        "import numpy as np\n",
        "\n",
        "import torch\n",
        "import torchvision\n",
        "import torchvision.transforms as transforms\n",
        "\n",
        "import torch.nn as nn\n",
        "import torch.nn.functional as F\n",
        "import torch.optim as optim"
      ],
      "metadata": {
        "id": "mhpviDstRuIY"
      },
      "execution_count": 1,
      "outputs": []
    },
    {
      "cell_type": "code",
      "execution_count": 2,
      "metadata": {
        "id": "mHOIuh5HV4SX",
        "colab": {
          "base_uri": "https://localhost:8080/"
        },
        "outputId": "272db46d-c290-478d-c73e-83ea6a880820"
      },
      "outputs": [
        {
          "output_type": "stream",
          "name": "stdout",
          "text": [
            "Downloading http://fashion-mnist.s3-website.eu-central-1.amazonaws.com/train-images-idx3-ubyte.gz\n",
            "Downloading http://fashion-mnist.s3-website.eu-central-1.amazonaws.com/train-images-idx3-ubyte.gz to ./data/FashionMNIST/raw/train-images-idx3-ubyte.gz\n"
          ]
        },
        {
          "output_type": "stream",
          "name": "stderr",
          "text": [
            "100%|██████████| 26421880/26421880 [00:01<00:00, 18588895.04it/s]\n"
          ]
        },
        {
          "output_type": "stream",
          "name": "stdout",
          "text": [
            "Extracting ./data/FashionMNIST/raw/train-images-idx3-ubyte.gz to ./data/FashionMNIST/raw\n",
            "\n",
            "Downloading http://fashion-mnist.s3-website.eu-central-1.amazonaws.com/train-labels-idx1-ubyte.gz\n",
            "Downloading http://fashion-mnist.s3-website.eu-central-1.amazonaws.com/train-labels-idx1-ubyte.gz to ./data/FashionMNIST/raw/train-labels-idx1-ubyte.gz\n"
          ]
        },
        {
          "output_type": "stream",
          "name": "stderr",
          "text": [
            "100%|██████████| 29515/29515 [00:00<00:00, 337939.15it/s]\n"
          ]
        },
        {
          "output_type": "stream",
          "name": "stdout",
          "text": [
            "Extracting ./data/FashionMNIST/raw/train-labels-idx1-ubyte.gz to ./data/FashionMNIST/raw\n",
            "\n",
            "Downloading http://fashion-mnist.s3-website.eu-central-1.amazonaws.com/t10k-images-idx3-ubyte.gz\n",
            "Downloading http://fashion-mnist.s3-website.eu-central-1.amazonaws.com/t10k-images-idx3-ubyte.gz to ./data/FashionMNIST/raw/t10k-images-idx3-ubyte.gz\n"
          ]
        },
        {
          "output_type": "stream",
          "name": "stderr",
          "text": [
            "100%|██████████| 4422102/4422102 [00:00<00:00, 6062734.93it/s]\n"
          ]
        },
        {
          "output_type": "stream",
          "name": "stdout",
          "text": [
            "Extracting ./data/FashionMNIST/raw/t10k-images-idx3-ubyte.gz to ./data/FashionMNIST/raw\n",
            "\n",
            "Downloading http://fashion-mnist.s3-website.eu-central-1.amazonaws.com/t10k-labels-idx1-ubyte.gz\n",
            "Downloading http://fashion-mnist.s3-website.eu-central-1.amazonaws.com/t10k-labels-idx1-ubyte.gz to ./data/FashionMNIST/raw/t10k-labels-idx1-ubyte.gz\n"
          ]
        },
        {
          "output_type": "stream",
          "name": "stderr",
          "text": [
            "100%|██████████| 5148/5148 [00:00<00:00, 19540522.16it/s]"
          ]
        },
        {
          "output_type": "stream",
          "name": "stdout",
          "text": [
            "Extracting ./data/FashionMNIST/raw/t10k-labels-idx1-ubyte.gz to ./data/FashionMNIST/raw\n",
            "\n"
          ]
        },
        {
          "output_type": "stream",
          "name": "stderr",
          "text": [
            "\n"
          ]
        }
      ],
      "source": [
        "transform = transforms.Compose(\n",
        "    [transforms.ToTensor(),\n",
        "     transforms.Normalize((0.5,), (0.5,))]\n",
        ")\n",
        "\n",
        "trainset = torchvision.datasets.FashionMNIST(\n",
        "    \"./data\",\n",
        "    download=True,\n",
        "    train=True,\n",
        "    transform = transform\n",
        ")"
      ]
    },
    {
      "cell_type": "code",
      "source": [
        "testset = torchvision.datasets.FashionMNIST(\n",
        "    \"./data\",\n",
        "    download=True,\n",
        "    train=False,\n",
        "    transform=transform\n",
        ")"
      ],
      "metadata": {
        "id": "CDPWAHyDTRDa"
      },
      "execution_count": 3,
      "outputs": []
    },
    {
      "cell_type": "code",
      "source": [
        "## dataloaders\n",
        "trainloader = torch.utils.data.DataLoader(\n",
        "    trainset,\n",
        "    batch_size=4,\n",
        "    shuffle=True,\n",
        "    num_workers=2 \n",
        "    )\n",
        "\n",
        "testloader = torch.utils.data.DataLoader(\n",
        "    testset, \n",
        "    batch_size=4,\n",
        "    shuffle=False,\n",
        "    num_workers=2\n",
        ")"
      ],
      "metadata": {
        "id": "KpXu6Y3VTchu"
      },
      "execution_count": 4,
      "outputs": []
    },
    {
      "cell_type": "code",
      "source": [
        "# constant for classes\n",
        "classes = ('T-shirt/top', 'Trouser', 'Pullover', 'Dress', 'Coat',\n",
        "        'Sandal', 'Shirt', 'Sneaker', 'Bag', 'Ankle Boot')"
      ],
      "metadata": {
        "id": "xKJ3T06pT9EE"
      },
      "execution_count": 5,
      "outputs": []
    },
    {
      "cell_type": "code",
      "source": [
        "## Helper function to plot an image\n",
        "def matplotlib_imshow(img, one_channel=False):\n",
        "  if one_channel:\n",
        "    img = img.mean(dim=0)\n",
        "  img = img / 2 + 0.5\n",
        "  npimg = img.numpy()\n",
        "  if one_channel:\n",
        "    plt.imshow(npimg, cmap=\"Greys\")\n",
        "  else:\n",
        "    plt.imshow(np.transpose(npimg, (1, 2, 0)))"
      ],
      "metadata": {
        "id": "2chZfIF0UOcI"
      },
      "execution_count": 6,
      "outputs": []
    },
    {
      "cell_type": "code",
      "source": [
        "class Net(nn.Module):\n",
        "  def __init__(self) -> None:\n",
        "    super(Net, self).__init__()\n",
        "    self.conv1 = nn.Conv2d(1, 6, 5)\n",
        "    self.pool = nn.MaxPool2d(2, 2)\n",
        "    self.conv2 = nn.Conv2d(6, 16, 5)\n",
        "    self.fc1 = nn.Linear(16*4*4, 120)\n",
        "    self.fc2 = nn.Linear(120, 84)\n",
        "    self.fc3 = nn.Linear(84, 10)\n",
        "\n",
        "  def forward(self, x):\n",
        "    x = self.pool(F.relu(self.conv1(x)))\n",
        "    x = self.pool(F.relu(self.conv2(x)))\n",
        "    x = x.view(-1, 16*4*4)\n",
        "    x = F.relu(self.fc1(x))\n",
        "    x = F.relu(self.fc2(x))\n",
        "    x = self.fc3(x)\n",
        "    return x\n",
        "\n",
        "net = Net()\n"
      ],
      "metadata": {
        "id": "kdadfzuUWfmm"
      },
      "execution_count": 19,
      "outputs": []
    },
    {
      "cell_type": "code",
      "source": [
        "criterion = nn.CrossEntropyLoss()\n",
        "optimizer = optim.SGD(net.parameters(), lr=0.001, momentum=0.9)"
      ],
      "metadata": {
        "id": "UGz_sEJRXXf5"
      },
      "execution_count": 20,
      "outputs": []
    },
    {
      "cell_type": "markdown",
      "source": [
        "### Tensorboard Setup"
      ],
      "metadata": {
        "id": "LQZh6DjsatR8"
      }
    },
    {
      "cell_type": "code",
      "source": [
        "from torch.utils.tensorboard import SummaryWriter"
      ],
      "metadata": {
        "id": "hYizotTRZ2zL"
      },
      "execution_count": 21,
      "outputs": []
    },
    {
      "cell_type": "code",
      "source": [
        "# default `log_dir` is \"runs\" - we'll be more specific here\n",
        "writer = SummaryWriter('runs/fashion_mnist_experiment_1')"
      ],
      "metadata": {
        "id": "Qa6XhGUpa0Ve"
      },
      "execution_count": 22,
      "outputs": []
    },
    {
      "cell_type": "markdown",
      "source": [
        "### Writing an image to tensorboard\n"
      ],
      "metadata": {
        "id": "z_UM2GGKa6fX"
      }
    },
    {
      "cell_type": "code",
      "source": [
        "dataiter = iter(trainloader)\n",
        "images, labels = next(dataiter)\n",
        "\n",
        "## Create the grid of images\n",
        "img_grid = torchvision.utils.make_grid(images)\n",
        "\n",
        "## Show images\n",
        "matplotlib_imshow(img_grid, one_channel=True)\n",
        "\n",
        "## Write to tensorboard\n",
        "writer.add_image(\"four_fashion_mnist_images\", img_grid)"
      ],
      "metadata": {
        "colab": {
          "base_uri": "https://localhost:8080/",
          "height": 194
        },
        "id": "5xMKc3zJa3Nt",
        "outputId": "bc3ecb98-d34a-4ebe-e3a1-e24b71672211"
      },
      "execution_count": 26,
      "outputs": [
        {
          "output_type": "display_data",
          "data": {
            "text/plain": [
              "<Figure size 640x480 with 1 Axes>"
            ],
            "image/png": "[encoded data removed]"
          },
          "metadata": {}
        }
      ]
    },
    {
      "cell_type": "markdown",
      "source": [
        "## Inspect the model using TensorBoard"
      ],
      "metadata": {
        "id": "bqW5SvW8b0Ib"
      }
    },
    {
      "cell_type": "code",
      "source": [
        "writer.add_graph(net, images)\n",
        "writer.close()"
      ],
      "metadata": {
        "id": "VxP9Z2Iebci8"
      },
      "execution_count": 27,
      "outputs": []
    },
    {
      "cell_type": "markdown",
      "source": [
        "### Adding a \"Projector\" to Tensorboard"
      ],
      "metadata": {
        "id": "KsInNIGPcOfe"
      }
    },
    {
      "cell_type": "code",
      "source": [
        "def select_n_randoms(data, labels, n=100):\n",
        "    \"\"\"\n",
        "    Selects n random datapoints and their corresponding labels from a dataset\n",
        "    \"\"\"\n",
        "    assert len(data) == len(labels)\n",
        "    perm = torch.randperm(len(data))\n",
        "    return data[perm][:n], labels[perm][:n]\n",
        "\n",
        "## Select the random images and their target indices\n",
        "images, labels = select_n_randoms(trainset.data, trainset.targets)\n",
        "\n",
        "## Get the class labels for each image\n",
        "class_labels = [classes[lab] for lab in labels]\n",
        "\n",
        "## Log Embeddings\n",
        "features = images.view(-1, 28*28)\n",
        "\n",
        "writer.add_embedding(features,\n",
        "                    metadata=class_labels,\n",
        "                    label_img=images.unsqueeze(1))\n",
        "writer.close()"
      ],
      "metadata": {
        "id": "BvewtVoLbkgx"
      },
      "execution_count": 28,
      "outputs": []
    },
    {
      "cell_type": "markdown",
      "source": [
        "## Tracking model training with TensorBoard\n"
      ],
      "metadata": {
        "id": "K2IcHddpebGQ"
      }
    },
    {
      "cell_type": "code",
      "source": [
        "## Helper function\n",
        "def images_to_probs(net, images):\n",
        "  output = net(images)\n",
        "  _, preds_tensor = torch.max(output, 1)\n",
        "  preds = np.squeeze(preds_tensor.numpy())\n",
        "  return preds, [F.softmax(el, dim=0)[i].item() for i, el in zip(preds, output)]"
      ],
      "metadata": {
        "id": "2p_KaP40eTAd"
      },
      "execution_count": 29,
      "outputs": []
    },
    {
      "cell_type": "code",
      "source": [
        "def plot_classes_preds(net, images, labels):\n",
        "  print(labels)\n",
        "  preds, probs = images_to_probs(net, images)\n",
        "  print(probs)\n",
        "  print(preds)\n",
        "  fig = plt.figure(figsize=(12, 48))\n",
        "  for idx in np.arange(4):\n",
        "    ax = fig.add_subplot(1, 4, idx+1, xticks=[], yticks=[])\n",
        "    matplotlib_imshow(images[idx], one_channel=True)\n",
        "    ax.set_title(\"{0}, {1:.1f}%\\n(label: {2})\".format(\n",
        "            classes[preds[idx]],\n",
        "            probs[idx] * 100.0,\n",
        "            classes[labels[idx]]),\n",
        "                    color=(\"green\" if preds[idx]==labels[idx].item() else \"red\"))\n",
        "    return fig"
      ],
      "metadata": {
        "id": "TVJPN2HTgzyz"
      },
      "execution_count": 32,
      "outputs": []
    },
    {
      "cell_type": "code",
      "source": [
        "running_loss = 0.0\n",
        "for epoch in range(1):\n",
        "  for i, data in enumerate(trainloader, 0):\n",
        "    inputs, labels = data\n",
        "    optimizer.zero_grad()\n",
        "    outputs = net(inputs)\n",
        "    loss = criterion(outputs, labels)\n",
        "    loss.backward()\n",
        "    optimizer.step()\n",
        "\n",
        "    running_loss += loss.item()\n",
        "    if i % 1000 == 999:\n",
        "      writer.add_scalar(\n",
        "          \"training_loss\", \n",
        "          running_loss / 1000, \n",
        "          epoch * len(trainloader) + i)\n",
        "      writer.add_figure(\n",
        "          'predictions vs. actuals', \n",
        "          plot_classes_preds(net, inputs, labels),\n",
        "          global_step=epoch * len(trainloader) + i\n",
        "      )\n",
        "      running_loss = 0.0\n",
        "print(\"Finised_Training\")"
      ],
      "metadata": {
        "colab": {
          "base_uri": "https://localhost:8080/"
        },
        "id": "8fRX7jgZhanv",
        "outputId": "3520ef08-855a-4a63-feaf-f4d5f27a9e66"
      },
      "execution_count": 33,
      "outputs": [
        {
          "output_type": "stream",
          "name": "stdout",
          "text": [
            "tensor([3, 4, 8, 9])\n",
            "[0.5558412075042725, 0.5783829092979431, 0.9575377106666565, 0.9368308186531067]\n",
            "[3 6 8 9]\n",
            "tensor([8, 5, 4, 7])\n",
            "[0.48873376846313477, 0.7463531494140625, 0.5311130285263062, 0.991238534450531]\n",
            "[4 5 4 7]\n",
            "tensor([5, 3, 2, 6])\n",
            "[0.9958279728889465, 0.9305310249328613, 0.757926344871521, 0.5381201505661011]\n",
            "[5 3 2 6]\n",
            "tensor([7, 3, 8, 1])\n",
            "[0.9970439076423645, 0.8394990563392639, 0.9975908994674683, 0.9970968961715698]\n",
            "[7 3 8 1]\n",
            "tensor([7, 6, 3, 6])\n",
            "[0.6998523473739624, 0.9616605043411255, 0.4514884352684021, 0.7757743000984192]\n",
            "[7 6 4 6]\n",
            "tensor([2, 5, 4, 3])\n",
            "[0.9473837018013, 0.9810464978218079, 0.9415860772132874, 0.8133135437965393]\n",
            "[2 5 4 3]\n",
            "tensor([6, 3, 5, 6])\n",
            "[0.7530270218849182, 0.5013067126274109, 0.999750554561615, 0.6964061856269836]\n",
            "[0 4 5 0]\n",
            "tensor([7, 6, 3, 6])\n",
            "[0.9211679697036743, 0.48572874069213867, 0.99116450548172, 0.7632116675376892]\n",
            "[7 2 3 6]\n",
            "tensor([2, 0, 7, 7])\n",
            "[0.8252214789390564, 0.8573103547096252, 0.9946534633636475, 0.9993969202041626]\n",
            "[4 0 7 7]\n",
            "tensor([6, 5, 3, 2])\n",
            "[0.26267898082733154, 0.9902288913726807, 0.7641841173171997, 0.911293625831604]\n",
            "[4 5 3 2]\n",
            "tensor([6, 5, 0, 4])\n",
            "[0.8945644497871399, 0.9994753003120422, 0.9714405536651611, 0.9134905338287354]\n",
            "[0 5 0 4]\n",
            "tensor([1, 0, 7, 9])\n",
            "[0.9499731659889221, 0.5342081189155579, 0.905743420124054, 0.9802425503730774]\n",
            "[1 6 7 9]\n",
            "tensor([0, 4, 3, 7])\n",
            "[0.5270301103591919, 0.8872848153114319, 0.8345382809638977, 0.996859073638916]\n",
            "[0 4 3 7]\n",
            "tensor([4, 8, 3, 7])\n",
            "[0.9253418445587158, 0.9992515444755554, 0.9976522326469421, 0.9958321452140808]\n",
            "[4 8 3 7]\n",
            "tensor([1, 3, 9, 6])\n",
            "[0.9999099969863892, 0.8609392642974854, 0.7025766968727112, 0.6732302308082581]\n",
            "[1 3 7 0]\n",
            "Finised_Training\n"
          ]
        }
      ]
    },
    {
      "cell_type": "markdown",
      "source": [
        "### Assessing trained models with TensorBoard"
      ],
      "metadata": {
        "id": "DOYHM1a5jbxR"
      }
    },
    {
      "cell_type": "code",
      "source": [
        "# 1. gets the probability predictions in a test_size x num_classes Tensor\n",
        "# 2. gets the preds in a test_size Tensor\n",
        "class_probs = []\n",
        "class_label = []\n",
        "with torch.no_grad():\n",
        "  for data in testloader:\n",
        "    images, labels = data\n",
        "    output = net(images)\n",
        "    class_probs_batch = [F.softmax(el, dim=0) for el in output]\n",
        "    class_probs.append(class_probs_batch)\n",
        "    class_label.append(labels)\n",
        "test_probs = torch.cat([torch.stack(batch) for batch in class_probs])\n",
        "test_label = torch.cat(class_label)\n",
        "\n",
        "def add_pr_curve_tensorboard(class_index, test_probs, test_label, global_step=0):\n",
        "    '''\n",
        "    Takes in a \"class_index\" from 0 to 9 and plots the corresponding\n",
        "    precision-recall curve\n",
        "    '''\n",
        "    tensorboard_truth = test_label == class_index\n",
        "    tensorboard_probs = test_probs[:, class_index]\n",
        "\n",
        "    writer.add_pr_curve(classes[class_index],\n",
        "                        tensorboard_truth,\n",
        "                        tensorboard_probs,\n",
        "                        global_step=global_step)\n",
        "    writer.close()\n",
        "\n",
        "# plot all the pr curves\n",
        "for i in range(len(classes)):\n",
        "    add_pr_curve_tensorboard(i, test_probs, test_label)\n"
      ],
      "metadata": {
        "id": "yQIS6a6viTwH"
      },
      "execution_count": 34,
      "outputs": []
    },
    {
      "cell_type": "code",
      "source": [],
      "metadata": {
        "id": "YGQnyiNikYRp"
      },
      "execution_count": null,
      "outputs": []
    }
  ]
}