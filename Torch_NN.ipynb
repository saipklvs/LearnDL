{
  "nbformat": 4,
  "nbformat_minor": 0,
  "metadata": {
    "colab": {
      "provenance": [],
      "authorship_tag": "ABX9TyPfqPtgJY7rUW/OeORdaqUt",
      "include_colab_link": true
    },
    "kernelspec": {
      "name": "python3",
      "display_name": "Python 3"
    },
    "language_info": {
      "name": "python"
    }
  },
  "cells": [
    {
      "cell_type": "markdown",
      "metadata": {
        "id": "view-in-github",
        "colab_type": "text"
      },
      "source": [
        "<a href=\"https://colab.research.google.com/github/saipklvs/LearnDL/blob/main/Torch_NN.ipynb\" target=\"_parent\"><img src=\"https://colab.research.google.com/assets/colab-badge.svg\" alt=\"Open In Colab\"/></a>"
      ]
    },
    {
      "cell_type": "markdown",
      "source": [
        "### MNIST Data Setup"
      ],
      "metadata": {
        "id": "85fOlJMJ38_z"
      }
    },
    {
      "cell_type": "code",
      "source": [
        "from pathlib import Path\n",
        "import requests\n",
        "\n",
        "DATA_PATH = Path(\"data\")\n",
        "PATH = DATA_PATH / \"mnist\"\n",
        "\n",
        "PATH.mkdir(parents=True, exist_ok=True)\n",
        "URL = \"https://github.com/pytorch/tutorials/raw/main/_static/\"\n",
        "FILENAME = \"mnist.pkl.gz\"\n",
        "\n",
        "if not (PATH / FILENAME).exists():\n",
        "        content = requests.get(URL + FILENAME).content\n",
        "        (PATH / FILENAME).open(\"wb\").write(content)"
      ],
      "metadata": {
        "id": "gwXl5Chg3_61"
      },
      "execution_count": 3,
      "outputs": []
    },
    {
      "cell_type": "code",
      "source": [
        "import pickle\n",
        "import gzip\n",
        "\n",
        "with gzip.open((PATH / FILENAME).as_posix(), \"rb\") as f:\n",
        "        ((x_train, y_train), (x_valid, y_valid), _) = pickle.load(f, encoding=\"latin-1\")"
      ],
      "metadata": {
        "id": "C_Z87yrP4WBW"
      },
      "execution_count": 4,
      "outputs": []
    },
    {
      "cell_type": "code",
      "source": [
        "from matplotlib import pyplot as plt\n",
        "import numpy as np \n",
        "\n",
        "plt.imshow(x_train[0].reshape((28, 28)), cmap=\"gray\")\n",
        "print(x_train.shape)"
      ],
      "metadata": {
        "colab": {
          "base_uri": "https://localhost:8080/",
          "height": 447
        },
        "id": "Yx91051C4bqi",
        "outputId": "cebb7a96-d67b-4d33-9257-ee93e2b81dba"
      },
      "execution_count": 5,
      "outputs": [
        {
          "output_type": "stream",
          "name": "stdout",
          "text": [
            "(50000, 784)\n"
          ]
        },
        {
          "output_type": "display_data",
          "data": {
            "text/plain": [
              "<Figure size 640x480 with 1 Axes>"
            ],
            "image/png": "[encoded data removed]"
          },
          "metadata": {}
        }
      ]
    },
    {
      "cell_type": "code",
      "source": [
        "import torch\n",
        "\n",
        "x_train, y_train, x_valid, y_valid = map(\n",
        "    torch.tensor, (x_train, y_train, x_valid, y_valid)\n",
        ")\n",
        "\n",
        "n, c = x_train.shape\n",
        "print(x_train, y_train)\n",
        "print(x_train.shape)\n",
        "print(y_train.min(), y_train.max())"
      ],
      "metadata": {
        "colab": {
          "base_uri": "https://localhost:8080/"
        },
        "id": "My6Adn-B4-X8",
        "outputId": "2d445c51-b1b4-4fae-c8af-d0c0e71eea67"
      },
      "execution_count": 6,
      "outputs": [
        {
          "output_type": "stream",
          "name": "stdout",
          "text": [
            "tensor([[0., 0., 0.,  ..., 0., 0., 0.],\n",
            "        [0., 0., 0.,  ..., 0., 0., 0.],\n",
            "        [0., 0., 0.,  ..., 0., 0., 0.],\n",
            "        ...,\n",
            "        [0., 0., 0.,  ..., 0., 0., 0.],\n",
            "        [0., 0., 0.,  ..., 0., 0., 0.],\n",
            "        [0., 0., 0.,  ..., 0., 0., 0.]]) tensor([5, 0, 4,  ..., 8, 4, 8])\n",
            "torch.Size([50000, 784])\n",
            "tensor(0) tensor(9)\n"
          ]
        }
      ]
    },
    {
      "cell_type": "markdown",
      "source": [
        "## NN from scratch with out using torch.nn"
      ],
      "metadata": {
        "id": "4THtR0SP6ZbJ"
      }
    },
    {
      "cell_type": "code",
      "source": [
        "import math\n",
        "\n",
        "weights = torch.randn(784, 10) / math.sqrt(784)\n",
        "weights.requires_grad_()\n",
        "bias = torch.zeros(10, requires_grad=True)"
      ],
      "metadata": {
        "id": "Ad5xDYgj50PJ"
      },
      "execution_count": 7,
      "outputs": []
    },
    {
      "cell_type": "code",
      "source": [
        "def log_softmax(x):\n",
        "  return x - x.exp().sum(-1).log().unsqueeze(-1)\n",
        "\n",
        "def model(xb):\n",
        "  return log_softmax(xb @ weights + bias)"
      ],
      "metadata": {
        "id": "bpmyXzFo6wy5"
      },
      "execution_count": 8,
      "outputs": []
    },
    {
      "cell_type": "code",
      "source": [
        "bs = 64 ## Batch size\n",
        "\n",
        "xb    = x_train[0:64]\n",
        "preds = model(xb)\n",
        "print(preds[0], preds.shape)"
      ],
      "metadata": {
        "colab": {
          "base_uri": "https://localhost:8080/"
        },
        "id": "2GRECdhS7bOs",
        "outputId": "0a9c0526-1ec1-4f21-ce55-fec880681310"
      },
      "execution_count": 9,
      "outputs": [
        {
          "output_type": "stream",
          "name": "stdout",
          "text": [
            "tensor([-2.4364, -2.0622, -2.5498, -2.4536, -2.3807, -2.5694, -2.4874, -2.1485,\n",
            "        -1.7382, -2.5696], grad_fn=<SelectBackward0>) torch.Size([64, 10])\n"
          ]
        }
      ]
    },
    {
      "cell_type": "code",
      "source": [
        "def nll(input, target):\n",
        "    return -input[range(target.shape[0]), target].mean()\n",
        "\n",
        "loss_func = nll\n"
      ],
      "metadata": {
        "id": "3z9onl-v7tf_"
      },
      "execution_count": 10,
      "outputs": []
    },
    {
      "cell_type": "code",
      "source": [
        "yb = y_train[0:bs]\n",
        "print(loss_func(preds, yb))"
      ],
      "metadata": {
        "colab": {
          "base_uri": "https://localhost:8080/"
        },
        "id": "kxaN56fe8g5z",
        "outputId": "ee00b354-4f30-40f2-f83e-a401b3a6b810"
      },
      "execution_count": 11,
      "outputs": [
        {
          "output_type": "stream",
          "name": "stdout",
          "text": [
            "tensor(2.3648, grad_fn=<NegBackward0>)\n"
          ]
        }
      ]
    },
    {
      "cell_type": "code",
      "source": [
        "def accuracy(out, yb):\n",
        "  preds = torch.argmax(out, dim=1)\n",
        "  return (preds == yb).float().mean()\n",
        "\n",
        "print(accuracy(preds, yb))"
      ],
      "metadata": {
        "colab": {
          "base_uri": "https://localhost:8080/"
        },
        "id": "Y8s4OfGa8o01",
        "outputId": "6fa062ae-8857-45af-e7fa-28cd177c94fb"
      },
      "execution_count": 12,
      "outputs": [
        {
          "output_type": "stream",
          "name": "stdout",
          "text": [
            "tensor(0.1094)\n"
          ]
        }
      ]
    },
    {
      "cell_type": "markdown",
      "source": [
        "## Using torch.nn method now"
      ],
      "metadata": {
        "id": "FhbFF6UiQwwx"
      }
    },
    {
      "cell_type": "code",
      "source": [
        "import torch.nn.functional as F\n",
        "loss_func = F.cross_entropy\n",
        "def model(xb):\n",
        "  return xb @ weights + bias\n",
        "print(loss_func(model(xb), yb), accuracy(model(xb), yb))\n"
      ],
      "metadata": {
        "colab": {
          "base_uri": "https://localhost:8080/"
        },
        "id": "vyiGCJtfQKKU",
        "outputId": "a0f9117a-d722-447e-9fd7-bf7d7a5d1506"
      },
      "execution_count": 13,
      "outputs": [
        {
          "output_type": "stream",
          "name": "stdout",
          "text": [
            "tensor(2.3648, grad_fn=<NllLossBackward0>) tensor(0.1094)\n"
          ]
        }
      ]
    },
    {
      "cell_type": "code",
      "source": [
        "from torch import nn\n",
        "\n",
        "class Mnist_Logistic(nn.Module):\n",
        "  def __init__(self) -> None:\n",
        "      super().__init__()\n",
        "      self.weights = nn.Parameter(torch.randn(784, 10)/ math.sqrt(784))\n",
        "      self.bias = nn.Parameter(torch.zeros(10))\n",
        "\n",
        "  def forward(self, xb):\n",
        "    return xb @ self.weights + self.bias\n",
        "\n",
        "model = Mnist_Logistic()"
      ],
      "metadata": {
        "id": "yglp2oo9RDUS"
      },
      "execution_count": 18,
      "outputs": []
    },
    {
      "cell_type": "code",
      "source": [
        "print(loss_func(model(xb), yb))"
      ],
      "metadata": {
        "colab": {
          "base_uri": "https://localhost:8080/"
        },
        "id": "_lwjJFLDSH_2",
        "outputId": "9f3ffaad-95d1-4ea7-8849-19746f4b6a5d"
      },
      "execution_count": 15,
      "outputs": [
        {
          "output_type": "stream",
          "name": "stdout",
          "text": [
            "tensor(2.2648, grad_fn=<NllLossBackward0>)\n"
          ]
        }
      ]
    },
    {
      "cell_type": "code",
      "source": [
        "def fit():\n",
        "    for epoch in range(epochs):\n",
        "        for i in range((n - 1) // bs + 1):\n",
        "            start_i = i * bs\n",
        "            end_i = start_i + bs\n",
        "            xb = x_train[start_i:end_i]\n",
        "            yb = y_train[start_i:end_i]\n",
        "            pred = model(xb)\n",
        "            loss = loss_func(pred, yb)\n",
        "\n",
        "            loss.backward()\n",
        "            with torch.no_grad():\n",
        "                for p in model.parameters():\n",
        "                    p -= p.grad * lr\n",
        "                model.zero_grad()\n",
        "\n",
        "fit()"
      ],
      "metadata": {
        "id": "Bs_73DhLSLNK"
      },
      "execution_count": 20,
      "outputs": []
    },
    {
      "cell_type": "code",
      "source": [
        "print(loss_func(model(xb), yb))"
      ],
      "metadata": {
        "colab": {
          "base_uri": "https://localhost:8080/"
        },
        "id": "cMMwRTYfSgxX",
        "outputId": "d7daed28-584a-4d97-fd81-e9b102936bf6"
      },
      "execution_count": 21,
      "outputs": [
        {
          "output_type": "stream",
          "name": "stdout",
          "text": [
            "tensor(0.2239, grad_fn=<NllLossBackward0>)\n"
          ]
        }
      ]
    },
    {
      "cell_type": "markdown",
      "source": [
        "### Refactoring using nn.Linear"
      ],
      "metadata": {
        "id": "1HSkCFl3TBVc"
      }
    },
    {
      "cell_type": "code",
      "source": [
        "class Mnist_Logistic(nn.Module):\n",
        "  def __init__(self):\n",
        "    super().__init__()\n",
        "    self.lin = nn.Linear(784, 10)\n",
        "\n",
        "  def forward(self, xb):\n",
        "    return self.lin(xb)"
      ],
      "metadata": {
        "id": "CGChr34ISyBn"
      },
      "execution_count": 22,
      "outputs": []
    },
    {
      "cell_type": "code",
      "source": [
        "model = Mnist_Logistic()\n",
        "print(loss_func(model(xb), yb))"
      ],
      "metadata": {
        "colab": {
          "base_uri": "https://localhost:8080/"
        },
        "id": "LR_EJzK_TgM3",
        "outputId": "c993c4e1-8c69-4d06-f376-f802a7ba0bdf"
      },
      "execution_count": 23,
      "outputs": [
        {
          "output_type": "stream",
          "name": "stdout",
          "text": [
            "tensor(2.3026, grad_fn=<NllLossBackward0>)\n"
          ]
        }
      ]
    },
    {
      "cell_type": "code",
      "source": [
        "## optim method from pytorch\n",
        "from torch import optim\n",
        "\n",
        "def get_model():\n",
        "  model = Mnist_Logistic()\n",
        "  return model, optim.SGD(model.parameters(), lr=lr)\n",
        "\n",
        "model, opt = get_model()\n",
        "print(loss_func(model(xb), yb))\n",
        "\n",
        "for epoch in range(epochs):\n",
        "  for i in range((n-1)// bs+1):\n",
        "    start_i = i * bs\n",
        "    end_i = start_i + bs\n",
        "    xb = x_train[start_i:end_i]\n",
        "    yb = y_train[start_i:end_i]\n",
        "    pred = model(xb)\n",
        "    loss = loss_func(pred, yb)\n",
        "\n",
        "    loss.backward()\n",
        "    opt.step()\n",
        "    opt.zero_grad()\n",
        "\n",
        "print(loss_func(model(xb), yb))"
      ],
      "metadata": {
        "colab": {
          "base_uri": "https://localhost:8080/"
        },
        "id": "Ps_0_ZkGTm99",
        "outputId": "fbfd2677-a258-4bcc-b3b4-8b55bd0c0e6e"
      },
      "execution_count": 24,
      "outputs": [
        {
          "output_type": "stream",
          "name": "stdout",
          "text": [
            "tensor(2.2907, grad_fn=<NllLossBackward0>)\n",
            "tensor(0.0806, grad_fn=<NllLossBackward0>)\n"
          ]
        }
      ]
    },
    {
      "cell_type": "markdown",
      "source": [
        "### Refactor using the Dataset"
      ],
      "metadata": {
        "id": "iF6tLpsfU4Rz"
      }
    },
    {
      "cell_type": "code",
      "source": [
        "from torch.utils.data import TensorDataset\n",
        "train_ds = TensorDataset(x_train, y_train)\n",
        "model, opt = get_model()\n",
        "for epoch in range(epochs):\n",
        "  for i in range((n-1) // bs + 1):\n",
        "    xb, yb = train_ds[i * bs: i * bs + bs]\n",
        "    pred = model(xb)\n",
        "    loss = loss_func(pred, yb)\n",
        "\n",
        "    loss.backward()\n",
        "    opt.step()\n",
        "    opt.zero_grad()\n",
        "\n",
        "print(loss_func(model(xb), yb))"
      ],
      "metadata": {
        "colab": {
          "base_uri": "https://localhost:8080/"
        },
        "id": "PfQ512AfUnDS",
        "outputId": "8066263c-00f1-4b1f-a394-a0a3278fea5a"
      },
      "execution_count": 25,
      "outputs": [
        {
          "output_type": "stream",
          "name": "stdout",
          "text": [
            "tensor(0.0823, grad_fn=<NllLossBackward0>)\n"
          ]
        }
      ]
    },
    {
      "cell_type": "markdown",
      "source": [
        "### Refactor using DataLoader"
      ],
      "metadata": {
        "id": "WsY4Z8i_V4Rq"
      }
    },
    {
      "cell_type": "code",
      "source": [
        "from torch.utils.data import DataLoader\n",
        "\n",
        "train_ds = TensorDataset(x_train, y_train)\n",
        "train_dl = DataLoader(train_ds, batch_size=bs)"
      ],
      "metadata": {
        "id": "yEUlXLF0VvKk"
      },
      "execution_count": 26,
      "outputs": []
    },
    {
      "cell_type": "code",
      "source": [
        "model, opt = get_model()\n",
        "\n",
        "for epoch in range(epochs):\n",
        "  for xb, yb in train_dl:\n",
        "    pred = model(xb)\n",
        "    loss = loss_func(pred, yb)\n",
        "\n",
        "    loss.backward()\n",
        "    opt.step()\n",
        "    opt.zero_grad()\n",
        "\n",
        "print(loss_func(model(xb), yb))"
      ],
      "metadata": {
        "colab": {
          "base_uri": "https://localhost:8080/"
        },
        "id": "ZOUj5d0yWLty",
        "outputId": "cd5fa315-0724-4d98-d78c-abedbad4acf1"
      },
      "execution_count": 27,
      "outputs": [
        {
          "output_type": "stream",
          "name": "stdout",
          "text": [
            "tensor(0.0813, grad_fn=<NllLossBackward0>)\n"
          ]
        }
      ]
    },
    {
      "cell_type": "markdown",
      "source": [
        "### Adding the validation code"
      ],
      "metadata": {
        "id": "zy0Y0QzYWnX6"
      }
    },
    {
      "cell_type": "code",
      "source": [
        "train_ds = TensorDataset(x_train, y_train)\n",
        "train_dl = DataLoader(train_ds, batch_size=bs, shuffle=True)\n",
        "\n",
        "valid_ds = TensorDataset(x_valid, y_valid)\n",
        "valid_dl = DataLoader(valid_ds, batch_size=bs * 2)"
      ],
      "metadata": {
        "id": "veJJc1yaWijD"
      },
      "execution_count": 28,
      "outputs": []
    },
    {
      "cell_type": "code",
      "source": [
        "model, opt = get_model()\n",
        "\n",
        "for epoch in range(epochs):\n",
        "  model.train() ## Other layers use these things so need to be careful\n",
        "  for xb, yb in train_dl:\n",
        "    pred = model(xb)\n",
        "    loss = loss_func(pred, yb)\n",
        "\n",
        "    loss.backward()\n",
        "    opt.step()\n",
        "    opt.zero_grad()\n",
        "\n",
        "  model.eval()\n",
        "  with torch.no_grad():\n",
        "    valid_loss = sum(loss_func(model(xb), yb) for xb, yb in valid_dl)\n",
        "\n",
        "  print(epoch, valid_loss / len(valid_dl))\n",
        "  "
      ],
      "metadata": {
        "colab": {
          "base_uri": "https://localhost:8080/"
        },
        "id": "g62Dj_QSWqyW",
        "outputId": "e11e93bc-4bac-45c9-f0c8-9eef1b5657d3"
      },
      "execution_count": 29,
      "outputs": [
        {
          "output_type": "stream",
          "name": "stdout",
          "text": [
            "0 tensor(0.3043)\n",
            "1 tensor(0.3097)\n"
          ]
        }
      ]
    },
    {
      "cell_type": "code",
      "source": [
        "def loss_batch(model, loss_func, xb, yb, opt=None):\n",
        "  loss = loss_func(model(xb), yb)\n",
        "  if opt is not None:\n",
        "    loss.backward()\n",
        "    opt.step()\n",
        "    opt.zero_grad()\n",
        "\n",
        "  return loss.item(), len(xb)"
      ],
      "metadata": {
        "id": "ry39MtH9Xckl"
      },
      "execution_count": 30,
      "outputs": []
    },
    {
      "cell_type": "code",
      "source": [
        "import numpy as np \n",
        "\n",
        "def fit(epochs, model, loss_func, opt, train_dl, valid_dl):\n",
        "  for epoch in range(epochs):\n",
        "    model.train()\n",
        "    for xb, yb in train_dl:\n",
        "      loss_batch(model, loss_func, xb, yb, opt)\n",
        "\n",
        "    model.eval()\n",
        "    with torch.no_grad():\n",
        "      losses, nums = zip(\n",
        "          *[loss_batch(model, loss_func, xb, yb) for xb, yb in valid_dl]\n",
        "      )\n",
        "    val_loss = np.sum(np.multiply(losses, nums)) / np.sum(nums)\n",
        "    print(np.multiply(losses, nums))\n",
        "    print(np.sum(nums))\n",
        "    print(epoch, val_loss)\n"
      ],
      "metadata": {
        "id": "Kb3hBCcEYKIw"
      },
      "execution_count": 35,
      "outputs": []
    },
    {
      "cell_type": "code",
      "source": [
        "def get_data(train_ds, valid_ds, bs):\n",
        "    return (\n",
        "        DataLoader(train_ds, batch_size=bs, shuffle=True),\n",
        "        DataLoader(valid_ds, batch_size=bs * 2),\n",
        "    )"
      ],
      "metadata": {
        "id": "go5c205OZR6k"
      },
      "execution_count": 36,
      "outputs": []
    },
    {
      "cell_type": "code",
      "source": [
        "train_dl, valid_dl = get_data(train_ds, valid_ds, bs)\n",
        "model, opt = get_model()\n",
        "fit(epochs, model, loss_func, opt, train_dl, valid_dl)"
      ],
      "metadata": {
        "colab": {
          "base_uri": "https://localhost:8080/"
        },
        "id": "qH18oC9KZM1D",
        "outputId": "27e56984-b76a-4e80-ae5c-770fc9d04364"
      },
      "execution_count": 37,
      "outputs": [
        {
          "output_type": "stream",
          "name": "stdout",
          "text": [
            "[42.69467163 58.86672592 60.11135101 59.16778946 65.47225952 37.06748581\n",
            " 31.92751503 22.07134056 27.47363281 46.72779083 38.57035446 32.78249741\n",
            " 30.95267296 43.42460632 26.39731026 52.53293991 69.19068146 48.90090561\n",
            " 48.20304489 25.6619606  40.51237106 58.82416153 76.88926697 63.44594193\n",
            " 40.27467346 32.93897629 11.4796772  61.22492981 40.78321838 34.45820618\n",
            " 52.77666092 60.29216385 34.45368195 26.32693672 40.14183426 53.40417862\n",
            " 25.80377769 41.36223221 71.55936432 36.26722336 33.93166351 46.50324631\n",
            " 27.29217148 37.12293243 45.79296112 32.58626556 31.98967934 22.87147141\n",
            " 35.71164322 40.52845383 48.82256699 40.67875671 24.04631233 25.16799927\n",
            " 35.73348999 31.96892929 26.60120392 29.52937508 37.81183624 41.93375397\n",
            " 44.4004097  25.75593376 29.59951019 29.81352615 17.18136978 19.55633736\n",
            " 23.25042343 24.50388145 26.91110229 25.45763969 12.304389   13.10648155\n",
            " 41.23868179 61.90419769 10.74346733 55.88201141 42.60552216 32.70718384\n",
            "  0.9135232 ]\n",
            "10000\n",
            "0 0.30058773169517516\n",
            "[39.344944   59.94983673 56.91236115 56.64889908 64.11605072 34.76390457\n",
            " 28.47496986 20.30453682 19.34391022 42.78296661 34.6906662  25.02762222\n",
            " 25.59014893 42.272892   23.50283623 50.72261429 67.18063354 41.03941727\n",
            " 48.43027496 22.38215828 39.47267151 55.596035   76.79290771 65.66956329\n",
            " 33.72576904 33.08504868  7.94572067 53.24570847 38.53488922 29.54573822\n",
            " 45.13534927 60.16707611 33.94407272 22.59976768 39.59224319 51.29461288\n",
            " 20.70090866 32.6702652  64.0752182  30.70682907 37.54183197 39.64795303\n",
            " 23.79010773 34.04900742 41.19578934 29.70786476 30.3415947  20.74866676\n",
            " 35.47967148 31.974123   44.60705948 38.10582352 22.55777168 22.42162514\n",
            " 30.56064987 26.36322403 29.80909538 34.10453033 32.09489822 44.86101532\n",
            " 44.50100327 23.52500343 26.51621056 25.82569504 15.75917435 21.84488487\n",
            " 18.58606339 21.50503349 24.55463409 22.25543022 10.94387054 10.5602169\n",
            " 41.18849945 51.03581238 13.31330872 57.30210495 41.78258514 29.86610603\n",
            "  0.86331594]\n",
            "10000\n",
            "1 0.2789673294425011\n"
          ]
        }
      ]
    },
    {
      "cell_type": "markdown",
      "source": [
        "### Switch to CNN"
      ],
      "metadata": {
        "id": "zfzifdPpZu4Q"
      }
    },
    {
      "cell_type": "code",
      "source": [
        "class Mnist_CNN(nn.Module):\n",
        "  def __init__(self) -> None:\n",
        "     super().__init__()\n",
        "     self.conv1 = nn.Conv2d(1, 16, kernel_size=3, stride=2, padding=1)\n",
        "     self.conv2 = nn.Conv2d(16, 16, kernel_size=3, stride=2, padding=1)\n",
        "     self.conv3 = nn.Conv2d(16, 10, kernel_size=3, stride=2, padding=1)\n",
        "\n",
        "  def forward(self, xb):\n",
        "    xb = xb.view(-1, 1, 28, 28)\n",
        "    xb = F.relu(self.conv1(xb))\n",
        "    xb = F.relu(self.conv2(xb))\n",
        "    xb = F.relu(self.conv3(xb))\n",
        "    xb = F.avg_pool2d(xb, 4)\n",
        "    return xb.view(-1, xb.size(1))\n",
        "\n",
        "lr = 0.1"
      ],
      "metadata": {
        "id": "fHIguDy3ZPtQ"
      },
      "execution_count": 41,
      "outputs": []
    },
    {
      "cell_type": "code",
      "source": [
        "model = Mnist_CNN()\n",
        "opt = optim.SGD(model.parameters(), lr=lr, momentum=0.9)\n",
        "\n",
        "fit(epochs, model, loss_func, opt, train_dl, valid_dl)"
      ],
      "metadata": {
        "colab": {
          "base_uri": "https://localhost:8080/"
        },
        "id": "MTgf3CDub2W_",
        "outputId": "4d5fc96b-c513-4575-8f0b-3f42b501459a"
      },
      "execution_count": 42,
      "outputs": [
        {
          "output_type": "stream",
          "name": "stdout",
          "text": [
            "[44.66065216 64.04773712 67.23487091 62.9962616  65.11781311 49.96343613\n",
            " 51.37452698 37.81975174 26.30703163 51.24075699 38.29655075 31.68341637\n",
            " 32.31424332 24.17639923 37.48273087 45.00035095 76.29294586 38.52676773\n",
            " 27.335989   18.29151154 36.97792816 49.08999634 74.49150085 46.34023285\n",
            " 40.45558167 44.51451492 24.4113884  45.66981506 33.47930145 31.11265182\n",
            " 44.4462204  76.6113739  37.56798935 31.77242851 50.62171936 42.22915649\n",
            " 23.69790077 35.90010834 76.83727264 47.86358261 32.93867111 40.37922668\n",
            " 36.9789772  45.38218307 44.50918198 35.28160477 36.52193832 21.81497574\n",
            " 43.81007385 47.19586563 55.02393341 34.18526077 29.38562965 32.87384033\n",
            " 34.38581467 33.03677368 35.73688889 47.81780243 34.8270874  50.88381577\n",
            " 56.10602951 36.29177475 40.20756912 28.65758705 15.66879749 48.39633179\n",
            " 40.14343643 31.06231308 20.48589897 25.56808662 12.07241154 17.67040253\n",
            " 61.67296219 88.59532166 35.60690308 50.49039078 47.56288147 33.20644379\n",
            "  3.89865446]\n",
            "10000\n",
            "0 0.3250588149547577\n",
            "[38.37865448 43.3185997  56.35069275 66.03110504 46.18309784 51.4139595\n",
            " 52.40779495 39.02280045 25.04214096 36.5629158  37.69495392 30.99997902\n",
            " 32.27749252 25.22203636 34.35778809 37.86703873 68.54174042 38.59859467\n",
            " 24.38806152 20.8872757  31.5632782  41.75942993 55.85927963 33.79537964\n",
            " 35.60054779 36.67414093 12.35776043 35.63559341 26.1120739  28.04213524\n",
            " 40.5107193  56.65232468 39.01892853 29.61976051 32.77298355 39.73934174\n",
            " 16.89508438 23.45233536 55.39863586 41.98976517 22.17612076 38.01500702\n",
            " 36.87589264 40.89743042 34.15990829 30.17842674 30.27276421 21.05888176\n",
            " 34.79946899 30.65237808 60.0022049  42.25702286 32.97628784 31.78902626\n",
            " 25.31933403 27.22748566 31.70033836 38.23310852 28.50585938 31.18148613\n",
            " 40.45262527 31.75827408 31.27270889 20.70854187 15.8009634  28.65775681\n",
            " 20.91675568 32.07438278 13.40840244 16.45050812  9.01405811 12.75020981\n",
            " 35.39722824 63.52429962 14.37782097 55.82279587 42.97771454 37.17139816\n",
            "  1.55086601]\n",
            "10000\n",
            "1 0.27113619641065595\n"
          ]
        }
      ]
    },
    {
      "cell_type": "code",
      "source": [],
      "metadata": {
        "id": "_kSTdhLGcOfU"
      },
      "execution_count": null,
      "outputs": []
    }
  ]
}