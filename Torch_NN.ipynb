{
  "nbformat": 4,
  "nbformat_minor": 0,
  "metadata": {
    "colab": {
      "provenance": [],
      "authorship_tag": "ABX9TyMzxItoKkPIRtypXUzkKgjA",
      "include_colab_link": true
    },
    "kernelspec": {
      "name": "python3",
      "display_name": "Python 3"
    },
    "language_info": {
      "name": "python"
    },
    "accelerator": "GPU",
    "gpuClass": "standard"
  },
  "cells": [
    {
      "cell_type": "markdown",
      "metadata": {
        "id": "view-in-github",
        "colab_type": "text"
      },
      "source": [
        "<a href=\"https://colab.research.google.com/github/saipklvs/LearnDL/blob/main/Torch_NN.ipynb\" target=\"_parent\"><img src=\"https://colab.research.google.com/assets/colab-badge.svg\" alt=\"Open In Colab\"/></a>"
      ]
    },
    {
      "cell_type": "markdown",
      "source": [
        "### MNIST Data Setup"
      ],
      "metadata": {
        "id": "85fOlJMJ38_z"
      }
    },
    {
      "cell_type": "code",
      "source": [
        "from pathlib import Path\n",
        "import requests\n",
        "\n",
        "DATA_PATH = Path(\"data\")\n",
        "PATH = DATA_PATH / \"mnist\"\n",
        "\n",
        "PATH.mkdir(parents=True, exist_ok=True)\n",
        "URL = \"https://github.com/pytorch/tutorials/raw/main/_static/\"\n",
        "FILENAME = \"mnist.pkl.gz\"\n",
        "\n",
        "if not (PATH / FILENAME).exists():\n",
        "        content = requests.get(URL + FILENAME).content\n",
        "        (PATH / FILENAME).open(\"wb\").write(content)"
      ],
      "metadata": {
        "id": "gwXl5Chg3_61"
      },
      "execution_count": 1,
      "outputs": []
    },
    {
      "cell_type": "code",
      "source": [
        "import pickle\n",
        "import gzip\n",
        "\n",
        "with gzip.open((PATH / FILENAME).as_posix(), \"rb\") as f:\n",
        "        ((x_train, y_train), (x_valid, y_valid), _) = pickle.load(f, encoding=\"latin-1\")"
      ],
      "metadata": {
        "id": "C_Z87yrP4WBW"
      },
      "execution_count": 2,
      "outputs": []
    },
    {
      "cell_type": "code",
      "source": [
        "from matplotlib import pyplot as plt\n",
        "import numpy as np \n",
        "\n",
        "plt.imshow(x_train[0].reshape((28, 28)), cmap=\"gray\")\n",
        "print(x_train.shape)"
      ],
      "metadata": {
        "colab": {
          "base_uri": "https://localhost:8080/",
          "height": 447
        },
        "id": "Yx91051C4bqi",
        "outputId": "6e919ea0-f7c3-4e68-e9de-b2a0db3d4d54"
      },
      "execution_count": 3,
      "outputs": [
        {
          "output_type": "stream",
          "name": "stdout",
          "text": [
            "(50000, 784)\n"
          ]
        },
        {
          "output_type": "display_data",
          "data": {
            "text/plain": [
              "<Figure size 640x480 with 1 Axes>"
            ],
            "image/png": "[encoded data removed]"
          },
          "metadata": {}
        }
      ]
    },
    {
      "cell_type": "code",
      "source": [
        "import torch\n",
        "\n",
        "x_train, y_train, x_valid, y_valid = map(\n",
        "    torch.tensor, (x_train, y_train, x_valid, y_valid)\n",
        ")\n",
        "\n",
        "n, c = x_train.shape\n",
        "print(x_train, y_train)\n",
        "print(x_train.shape)\n",
        "print(y_train.min(), y_train.max())"
      ],
      "metadata": {
        "colab": {
          "base_uri": "https://localhost:8080/"
        },
        "id": "My6Adn-B4-X8",
        "outputId": "80043e6b-f9e4-4542-ef70-f3b2daeabe75"
      },
      "execution_count": 4,
      "outputs": [
        {
          "output_type": "stream",
          "name": "stdout",
          "text": [
            "tensor([[0., 0., 0.,  ..., 0., 0., 0.],\n",
            "        [0., 0., 0.,  ..., 0., 0., 0.],\n",
            "        [0., 0., 0.,  ..., 0., 0., 0.],\n",
            "        ...,\n",
            "        [0., 0., 0.,  ..., 0., 0., 0.],\n",
            "        [0., 0., 0.,  ..., 0., 0., 0.],\n",
            "        [0., 0., 0.,  ..., 0., 0., 0.]]) tensor([5, 0, 4,  ..., 8, 4, 8])\n",
            "torch.Size([50000, 784])\n",
            "tensor(0) tensor(9)\n"
          ]
        }
      ]
    },
    {
      "cell_type": "markdown",
      "source": [
        "## NN from scratch with out using torch.nn"
      ],
      "metadata": {
        "id": "4THtR0SP6ZbJ"
      }
    },
    {
      "cell_type": "code",
      "source": [
        "import math\n",
        "\n",
        "weights = torch.randn(784, 10) / math.sqrt(784)\n",
        "weights.requires_grad_()\n",
        "bias = torch.zeros(10, requires_grad=True)"
      ],
      "metadata": {
        "id": "Ad5xDYgj50PJ"
      },
      "execution_count": 5,
      "outputs": []
    },
    {
      "cell_type": "code",
      "source": [
        "def log_softmax(x):\n",
        "  return x - x.exp().sum(-1).log().unsqueeze(-1)\n",
        "\n",
        "def model(xb):\n",
        "  return log_softmax(xb @ weights + bias)"
      ],
      "metadata": {
        "id": "bpmyXzFo6wy5"
      },
      "execution_count": 6,
      "outputs": []
    },
    {
      "cell_type": "code",
      "source": [
        "bs = 64 ## Batch size\n",
        "\n",
        "xb    = x_train[0:64]\n",
        "preds = model(xb)\n",
        "print(preds[0], preds.shape)"
      ],
      "metadata": {
        "colab": {
          "base_uri": "https://localhost:8080/"
        },
        "id": "2GRECdhS7bOs",
        "outputId": "c789347b-be2d-414c-8798-8d3fb5c6e20c"
      },
      "execution_count": 7,
      "outputs": [
        {
          "output_type": "stream",
          "name": "stdout",
          "text": [
            "tensor([-2.6122, -1.9858, -2.1294, -2.4861, -1.8427, -1.9995, -2.8948, -2.6913,\n",
            "        -2.3383, -2.6060], grad_fn=<SelectBackward0>) torch.Size([64, 10])\n"
          ]
        }
      ]
    },
    {
      "cell_type": "code",
      "source": [
        "def nll(input, target):\n",
        "    return -input[range(target.shape[0]), target].mean()\n",
        "\n",
        "loss_func = nll\n"
      ],
      "metadata": {
        "id": "3z9onl-v7tf_"
      },
      "execution_count": 8,
      "outputs": []
    },
    {
      "cell_type": "code",
      "source": [
        "yb = y_train[0:bs]\n",
        "print(loss_func(preds, yb))"
      ],
      "metadata": {
        "colab": {
          "base_uri": "https://localhost:8080/"
        },
        "id": "kxaN56fe8g5z",
        "outputId": "7286e3f3-56a3-452f-de77-fafc9b1b2f3a"
      },
      "execution_count": 9,
      "outputs": [
        {
          "output_type": "stream",
          "name": "stdout",
          "text": [
            "tensor(2.4412, grad_fn=<NegBackward0>)\n"
          ]
        }
      ]
    },
    {
      "cell_type": "code",
      "source": [
        "def accuracy(out, yb):\n",
        "  preds = torch.argmax(out, dim=1)\n",
        "  return (preds == yb).float().mean()\n",
        "\n",
        "print(accuracy(preds, yb))"
      ],
      "metadata": {
        "colab": {
          "base_uri": "https://localhost:8080/"
        },
        "id": "Y8s4OfGa8o01",
        "outputId": "aeca04a7-b511-4507-aed7-1084d6763008"
      },
      "execution_count": 10,
      "outputs": [
        {
          "output_type": "stream",
          "name": "stdout",
          "text": [
            "tensor(0.0781)\n"
          ]
        }
      ]
    },
    {
      "cell_type": "markdown",
      "source": [
        "## Using torch.nn method now"
      ],
      "metadata": {
        "id": "FhbFF6UiQwwx"
      }
    },
    {
      "cell_type": "code",
      "source": [
        "import torch.nn.functional as F\n",
        "loss_func = F.cross_entropy\n",
        "def model(xb):\n",
        "  return xb @ weights + bias\n",
        "print(loss_func(model(xb), yb), accuracy(model(xb), yb))\n"
      ],
      "metadata": {
        "colab": {
          "base_uri": "https://localhost:8080/"
        },
        "id": "vyiGCJtfQKKU",
        "outputId": "756ab456-7ead-45de-dec0-04f7d3020144"
      },
      "execution_count": 11,
      "outputs": [
        {
          "output_type": "stream",
          "name": "stdout",
          "text": [
            "tensor(2.4412, grad_fn=<NllLossBackward0>) tensor(0.0781)\n"
          ]
        }
      ]
    },
    {
      "cell_type": "code",
      "source": [
        "from torch import nn\n",
        "\n",
        "class Mnist_Logistic(nn.Module):\n",
        "  def __init__(self) -> None:\n",
        "      super().__init__()\n",
        "      self.weights = nn.Parameter(torch.randn(784, 10)/ math.sqrt(784))\n",
        "      self.bias = nn.Parameter(torch.zeros(10))\n",
        "\n",
        "  def forward(self, xb):\n",
        "    return xb @ self.weights + self.bias\n",
        "\n",
        "model = Mnist_Logistic()"
      ],
      "metadata": {
        "id": "yglp2oo9RDUS"
      },
      "execution_count": 12,
      "outputs": []
    },
    {
      "cell_type": "code",
      "source": [
        "print(loss_func(model(xb), yb))"
      ],
      "metadata": {
        "colab": {
          "base_uri": "https://localhost:8080/"
        },
        "id": "_lwjJFLDSH_2",
        "outputId": "fadf7c29-aa1a-4229-840c-54f4838113f7"
      },
      "execution_count": 13,
      "outputs": [
        {
          "output_type": "stream",
          "name": "stdout",
          "text": [
            "tensor(2.3385, grad_fn=<NllLossBackward0>)\n"
          ]
        }
      ]
    },
    {
      "cell_type": "code",
      "source": [
        "epochs = 10\n",
        "lr = 0.05\n",
        "def fit():\n",
        "    for epoch in range(epochs):\n",
        "        for i in range((n - 1) // bs + 1):\n",
        "            start_i = i * bs\n",
        "            end_i = start_i + bs\n",
        "            xb = x_train[start_i:end_i]\n",
        "            yb = y_train[start_i:end_i]\n",
        "            pred = model(xb)\n",
        "            loss = loss_func(pred, yb)\n",
        "\n",
        "            loss.backward()\n",
        "            with torch.no_grad():\n",
        "                for p in model.parameters():\n",
        "                    p -= p.grad * lr\n",
        "                model.zero_grad()\n",
        "\n",
        "fit()"
      ],
      "metadata": {
        "id": "Bs_73DhLSLNK"
      },
      "execution_count": 21,
      "outputs": []
    },
    {
      "cell_type": "code",
      "source": [
        "print(loss_func(model(xb), yb))"
      ],
      "metadata": {
        "colab": {
          "base_uri": "https://localhost:8080/"
        },
        "id": "cMMwRTYfSgxX",
        "outputId": "3c6ab744-df0c-4060-9f76-1ebaf4fda6d2"
      },
      "execution_count": 16,
      "outputs": [
        {
          "output_type": "stream",
          "name": "stdout",
          "text": [
            "tensor(0.0989, grad_fn=<NllLossBackward0>)\n"
          ]
        }
      ]
    },
    {
      "cell_type": "markdown",
      "source": [
        "### Refactoring using nn.Linear"
      ],
      "metadata": {
        "id": "1HSkCFl3TBVc"
      }
    },
    {
      "cell_type": "code",
      "source": [
        "class Mnist_Logistic(nn.Module):\n",
        "  def __init__(self):\n",
        "    super().__init__()\n",
        "    self.lin = nn.Linear(784, 10)\n",
        "\n",
        "  def forward(self, xb):\n",
        "    return self.lin(xb)"
      ],
      "metadata": {
        "id": "CGChr34ISyBn"
      },
      "execution_count": 17,
      "outputs": []
    },
    {
      "cell_type": "code",
      "source": [
        "model = Mnist_Logistic()\n",
        "print(loss_func(model(xb), yb))"
      ],
      "metadata": {
        "colab": {
          "base_uri": "https://localhost:8080/"
        },
        "id": "LR_EJzK_TgM3",
        "outputId": "df771838-fbfc-43a7-dd2d-89e75e269d31"
      },
      "execution_count": 18,
      "outputs": [
        {
          "output_type": "stream",
          "name": "stdout",
          "text": [
            "tensor(2.2889, grad_fn=<NllLossBackward0>)\n"
          ]
        }
      ]
    },
    {
      "cell_type": "code",
      "source": [
        "## optim method from pytorch\n",
        "from torch import optim\n",
        "\n",
        "lr = 0.02\n",
        "epochs = 10\n",
        "def get_model():\n",
        "  model = Mnist_Logistic()\n",
        "  return model, optim.SGD(model.parameters(), lr=lr)\n",
        "\n",
        "model, opt = get_model()\n",
        "print(loss_func(model(xb), yb))\n",
        "\n",
        "for epoch in range(epochs):\n",
        "  for i in range((n-1)// bs+1):\n",
        "    start_i = i * bs\n",
        "    end_i = start_i + bs\n",
        "    xb = x_train[start_i:end_i]\n",
        "    yb = y_train[start_i:end_i]\n",
        "    pred = model(xb)\n",
        "    loss = loss_func(pred, yb)\n",
        "\n",
        "    loss.backward()\n",
        "    opt.step()\n",
        "    opt.zero_grad()\n",
        "\n",
        "print(loss_func(model(xb), yb))"
      ],
      "metadata": {
        "id": "Ps_0_ZkGTm99"
      },
      "execution_count": 20,
      "outputs": []
    },
    {
      "cell_type": "markdown",
      "source": [
        "### Refactor using the Dataset"
      ],
      "metadata": {
        "id": "iF6tLpsfU4Rz"
      }
    },
    {
      "cell_type": "code",
      "source": [
        "from torch.utils.data import TensorDataset\n",
        "train_ds = TensorDataset(x_train, y_train)\n",
        "model, opt = get_model()\n",
        "for epoch in range(epochs):\n",
        "  for i in range((n-1) // bs + 1):\n",
        "    xb, yb = train_ds[i * bs: i * bs + bs]\n",
        "    pred = model(xb)\n",
        "    loss = loss_func(pred, yb)\n",
        "\n",
        "    loss.backward()\n",
        "    opt.step()\n",
        "    opt.zero_grad()\n",
        "\n",
        "print(loss_func(model(xb), yb))"
      ],
      "metadata": {
        "colab": {
          "base_uri": "https://localhost:8080/"
        },
        "id": "PfQ512AfUnDS",
        "outputId": "9280af4a-cd1a-4799-a999-7de4073014ea"
      },
      "execution_count": 22,
      "outputs": [
        {
          "output_type": "stream",
          "name": "stdout",
          "text": [
            "tensor(0.3650, grad_fn=<NllLossBackward0>)\n"
          ]
        }
      ]
    },
    {
      "cell_type": "markdown",
      "source": [
        "### Refactor using DataLoader"
      ],
      "metadata": {
        "id": "WsY4Z8i_V4Rq"
      }
    },
    {
      "cell_type": "code",
      "source": [
        "from torch.utils.data import DataLoader\n",
        "\n",
        "train_ds = TensorDataset(x_train, y_train)\n",
        "train_dl = DataLoader(train_ds, batch_size=bs)"
      ],
      "metadata": {
        "id": "yEUlXLF0VvKk"
      },
      "execution_count": 23,
      "outputs": []
    },
    {
      "cell_type": "code",
      "source": [
        "model, opt = get_model()\n",
        "\n",
        "for epoch in range(epochs):\n",
        "  for xb, yb in train_dl:\n",
        "    pred = model(xb)\n",
        "    loss = loss_func(pred, yb)\n",
        "\n",
        "    loss.backward()\n",
        "    opt.step()\n",
        "    opt.zero_grad()\n",
        "\n",
        "print(loss_func(model(xb), yb))"
      ],
      "metadata": {
        "colab": {
          "base_uri": "https://localhost:8080/"
        },
        "id": "ZOUj5d0yWLty",
        "outputId": "19e25460-a08d-480a-944d-ee169c02f5fc"
      },
      "execution_count": 24,
      "outputs": [
        {
          "output_type": "stream",
          "name": "stdout",
          "text": [
            "tensor(0.3693, grad_fn=<NllLossBackward0>)\n"
          ]
        }
      ]
    },
    {
      "cell_type": "markdown",
      "source": [
        "### Adding the validation code"
      ],
      "metadata": {
        "id": "zy0Y0QzYWnX6"
      }
    },
    {
      "cell_type": "code",
      "source": [
        "train_ds = TensorDataset(x_train, y_train)\n",
        "train_dl = DataLoader(train_ds, batch_size=bs, shuffle=True)\n",
        "\n",
        "valid_ds = TensorDataset(x_valid, y_valid)\n",
        "valid_dl = DataLoader(valid_ds, batch_size=bs * 2)"
      ],
      "metadata": {
        "id": "veJJc1yaWijD"
      },
      "execution_count": 25,
      "outputs": []
    },
    {
      "cell_type": "code",
      "source": [
        "model, opt = get_model()\n",
        "\n",
        "for epoch in range(epochs):\n",
        "  model.train() ## Other layers use these things so need to be careful\n",
        "  for xb, yb in train_dl:\n",
        "    pred = model(xb)\n",
        "    loss = loss_func(pred, yb)\n",
        "\n",
        "    loss.backward()\n",
        "    opt.step()\n",
        "    opt.zero_grad()\n",
        "\n",
        "  model.eval()\n",
        "  with torch.no_grad():\n",
        "    valid_loss = sum(loss_func(model(xb), yb) for xb, yb in valid_dl)\n",
        "\n",
        "  print(epoch, valid_loss / len(valid_dl))\n",
        "  "
      ],
      "metadata": {
        "colab": {
          "base_uri": "https://localhost:8080/"
        },
        "id": "g62Dj_QSWqyW",
        "outputId": "b4242185-970e-4b22-a470-3fd6fa97dd2d"
      },
      "execution_count": 26,
      "outputs": [
        {
          "output_type": "stream",
          "name": "stdout",
          "text": [
            "0 tensor(0.3828)\n",
            "1 tensor(0.3354)\n",
            "2 tensor(0.3169)\n",
            "3 tensor(0.3047)\n",
            "4 tensor(0.2989)\n",
            "5 tensor(0.2915)\n",
            "6 tensor(0.2875)\n",
            "7 tensor(0.2842)\n",
            "8 tensor(0.2805)\n",
            "9 tensor(0.2788)\n"
          ]
        }
      ]
    },
    {
      "cell_type": "code",
      "source": [
        "def loss_batch(model, loss_func, xb, yb, opt=None):\n",
        "  loss = loss_func(model(xb), yb)\n",
        "  if opt is not None:\n",
        "    loss.backward()\n",
        "    opt.step()\n",
        "    opt.zero_grad()\n",
        "\n",
        "  return loss.item(), len(xb)"
      ],
      "metadata": {
        "id": "ry39MtH9Xckl"
      },
      "execution_count": 27,
      "outputs": []
    },
    {
      "cell_type": "code",
      "source": [
        "import numpy as np \n",
        "\n",
        "def fit(epochs, model, loss_func, opt, train_dl, valid_dl):\n",
        "  for epoch in range(epochs):\n",
        "    model.train()\n",
        "    for xb, yb in train_dl:\n",
        "      loss_batch(model, loss_func, xb, yb, opt)\n",
        "\n",
        "    model.eval()\n",
        "    with torch.no_grad():\n",
        "      losses, nums = zip(\n",
        "          *[loss_batch(model, loss_func, xb, yb) for xb, yb in valid_dl]\n",
        "      )\n",
        "    val_loss = np.sum(np.multiply(losses, nums)) / np.sum(nums)\n",
        "    print(np.multiply(losses, nums))\n",
        "    print(np.sum(nums))\n",
        "    print(epoch, val_loss)\n"
      ],
      "metadata": {
        "id": "Kb3hBCcEYKIw"
      },
      "execution_count": 28,
      "outputs": []
    },
    {
      "cell_type": "code",
      "source": [
        "def get_data(train_ds, valid_ds, bs):\n",
        "    return (\n",
        "        DataLoader(train_ds, batch_size=bs, shuffle=True),\n",
        "        DataLoader(valid_ds, batch_size=bs * 2),\n",
        "    )"
      ],
      "metadata": {
        "id": "go5c205OZR6k"
      },
      "execution_count": 29,
      "outputs": []
    },
    {
      "cell_type": "code",
      "source": [
        "train_dl, valid_dl = get_data(train_ds, valid_ds, bs)\n",
        "model, opt = get_model()\n",
        "fit(epochs, model, loss_func, opt, train_dl, valid_dl)"
      ],
      "metadata": {
        "colab": {
          "base_uri": "https://localhost:8080/"
        },
        "id": "qH18oC9KZM1D",
        "outputId": "4acce31c-cc38-4ccb-802f-b73659ad50af"
      },
      "execution_count": 30,
      "outputs": [
        {
          "output_type": "stream",
          "name": "stdout",
          "text": [
            "[53.8241806  60.78176117 71.78640747 72.1651001  72.07913971 56.02682877\n",
            " 42.89569473 37.27296448 39.09434128 60.99399948 52.70067978 41.51267624\n",
            " 36.32818222 50.02822495 41.35554886 60.82531357 93.80974579 60.54860306\n",
            " 51.37786484 38.71454239 48.26305771 75.52053833 76.45988464 62.63358688\n",
            " 52.56035995 46.88186264 26.56537056 69.41949463 48.49703598 46.62862778\n",
            " 54.13461685 71.73969269 49.14317703 40.58786011 48.05051804 56.67580414\n",
            " 35.39788055 42.67053604 88.9578476  49.59588623 40.4936409  47.48708344\n",
            " 44.52210236 45.67160034 51.37602234 41.71754837 35.48252106 37.53625107\n",
            " 52.3698349  53.04849625 59.63407898 50.64690018 36.66905594 40.45761871\n",
            " 46.2590332  46.16669846 49.37586975 50.56956482 53.78530884 53.16299438\n",
            " 59.97309875 41.91767502 41.89381027 41.13204193 25.85840225 38.37483978\n",
            " 34.31912613 45.38368607 36.50165176 25.59590149 22.23308182 25.14275551\n",
            " 44.07021713 58.51470184 21.35754013 57.58394241 44.68194199 43.98794556\n",
            "  3.25279284]\n",
            "10000\n",
            "0 0.3832712814807892\n",
            "[48.0080719  57.16770554 66.88556671 64.80554199 67.5391922  48.12698364\n",
            " 36.96819687 31.83496475 34.69070053 56.03128815 49.33721924 36.60368347\n",
            " 31.1422081  46.41435623 35.44468689 57.67983627 82.35151672 54.28847122\n",
            " 48.19219208 33.25028992 43.56077576 67.40768433 73.91470337 60.4937973\n",
            " 47.77991104 40.84129715 19.52594566 61.88961411 42.31464005 39.52132034\n",
            " 50.82050705 64.71089935 46.52005768 33.0930481  42.96676636 51.6624527\n",
            " 30.62122536 38.5939064  82.50093842 44.06536102 36.95173264 44.6111412\n",
            " 37.09667206 40.70753098 47.66925812 35.6689949  30.91189194 30.99114037\n",
            " 44.45825958 46.44620895 53.6932869  44.782547   29.84346008 34.68246841\n",
            " 41.05450058 40.57060623 41.48065567 43.5696907  46.75246048 50.20687103\n",
            " 54.0056076  35.10318756 34.71798325 34.28682709 21.14259911 27.82553482\n",
            " 29.63663101 37.20097733 31.14498329 22.64443398 17.71098137 20.9456749\n",
            " 39.98329926 61.1517067  16.19747162 56.21431732 41.69006348 36.94717789\n",
            "  2.05202222]\n",
            "10000\n",
            "1 0.3412318381547928\n",
            "[46.14603806 56.6587677  63.80495453 60.78466415 65.55246735 44.60551834\n",
            " 33.56049728 28.01960945 28.98260689 52.58608246 43.87328339 34.0123024\n",
            " 29.24412346 43.38125229 31.09408951 55.51137543 78.9491806  51.51316071\n",
            " 47.69176102 28.96187592 41.78417587 63.82748032 71.73327637 58.25664139\n",
            " 43.43044281 37.88055801 16.00496101 57.67480469 39.8307991  36.74038315\n",
            " 48.52116776 62.27170181 43.67739487 31.28679276 40.37447739 49.65424728\n",
            " 27.96688652 35.87342453 75.65644073 41.5560379  36.19944763 42.56121445\n",
            " 32.40924454 38.08863068 44.02481842 33.71541595 29.19488716 28.10459518\n",
            " 40.64895248 41.50860214 52.28168106 42.04904175 26.27867126 32.41559982\n",
            " 38.75007629 36.49720383 37.37974167 38.91265106 42.15908813 48.78533554\n",
            " 52.33750534 31.23633957 31.17853928 31.59744453 20.12802696 25.87723351\n",
            " 26.72140121 33.41779709 29.44507027 21.10288239 14.16409588 17.14708328\n",
            " 39.36653137 55.96666718 14.14450836 54.66075897 40.16714859 35.96401596\n",
            "  1.75101757]\n",
            "10000\n",
            "2 0.3187274671554565\n",
            "[44.83338165 56.33363724 62.26262283 59.56005859 64.43314362 42.0556488\n",
            " 32.48608398 25.88837433 27.03179741 50.07951736 41.13367844 32.23092651\n",
            " 28.7481041  42.76591492 28.57620811 53.71666336 75.49289703 49.03429031\n",
            " 47.68144989 26.86052322 40.41956329 60.5782814  71.12948608 58.68433762\n",
            " 41.3298378  36.19158936 14.40558529 56.07655334 38.40231323 35.31141663\n",
            " 48.34980774 59.90825272 41.19200897 29.17394829 39.35990906 49.02860641\n",
            " 26.5208931  35.82635498 71.55872345 39.28324509 35.10537338 42.45483398\n",
            " 29.97557449 36.71881485 42.69009781 32.47603607 28.43741417 25.90652847\n",
            " 39.02474976 39.83009338 50.8710289  41.10890961 24.99738503 30.66260529\n",
            " 36.99772263 34.37591171 34.52881241 36.8029747  39.33284378 47.63178635\n",
            " 50.52654648 29.15960884 30.03874969 30.61900711 19.48692513 24.85867882\n",
            " 25.01680183 30.95238686 27.9884758  20.90147018 13.38661289 15.5409584\n",
            " 39.25065994 55.53145599 12.88458252 53.97700882 39.54356766 35.19138718\n",
            "  1.59688902]\n",
            "10000\n",
            "3 0.30703169054985047\n",
            "[43.72343826 56.25622559 60.35212326 58.90437698 62.1046524  40.10671616\n",
            " 29.92460632 24.97314262 25.77456474 48.88448715 39.52290344 31.57214928\n",
            " 28.24189758 41.9724617  27.35134697 51.70259857 74.52013397 47.16080093\n",
            " 46.40730286 26.10541153 39.95486069 59.84854126 71.4699707  58.10892487\n",
            " 39.87700272 34.97957993 13.2337265  54.3273735  37.89611816 33.67284775\n",
            " 46.64460754 58.63143539 40.00550842 27.72871399 38.17772675 49.05044174\n",
            " 25.09057808 34.95845032 69.06801605 38.00703049 33.9846611  41.07805252\n",
            " 29.15289497 35.66952896 42.50847626 31.85227776 28.50762177 25.27156639\n",
            " 37.76638031 37.85503387 50.36754608 39.30913162 24.43006897 28.57025909\n",
            " 35.9516983  32.34248734 32.43887711 34.7901001  38.93996048 46.59219742\n",
            " 48.83447647 27.17409897 29.52109909 29.05751038 18.98928833 24.25820351\n",
            " 23.39323616 29.1719017  26.2194252  21.04002953 12.32022476 14.23178196\n",
            " 37.67341232 55.07765198 12.39973545 53.44220734 39.30570221 33.99996567\n",
            "  1.43427193]\n",
            "10000\n",
            "4 0.29812158385515214\n",
            "[42.37889481 57.16362381 58.67475128 56.43389511 62.87023544 40.34251785\n",
            " 31.10390282 24.06053925 24.84257507 48.79765701 39.69770432 31.69143677\n",
            " 26.86615753 42.45697021 26.35861588 51.05932999 73.57063293 46.52167511\n",
            " 47.05835342 25.24517632 39.15818024 56.40893173 72.56891632 60.95357895\n",
            " 37.32963562 35.07122803 12.98040771 54.36058426 39.1116333  32.54549789\n",
            " 43.9066391  57.48917389 39.34515381 27.58908844 38.98087692 51.23394394\n",
            " 23.27300262 33.45043564 68.19885254 37.23654938 33.12236023 39.00868607\n",
            " 28.6661377  35.02171707 42.57727051 31.19369316 28.07059288 24.72927856\n",
            " 37.5586319  36.70366287 49.21630859 37.90362549 25.07785988 27.35102654\n",
            " 36.43829346 31.55812454 32.50272369 34.87744141 37.02750015 47.01334763\n",
            " 47.42618942 27.40036964 29.90854454 28.23052216 18.58979797 24.13539696\n",
            " 23.58817291 28.63711357 27.59088135 20.35480118 12.16802597 14.29523659\n",
            " 35.50088501 55.74427795 14.35315514 54.2883873  40.20719147 32.80099869\n",
            "  1.30078411]\n",
            "10000\n",
            "5 0.295052596950531\n",
            "[42.23304749 55.61594772 59.1046524  57.4407692  62.30345535 37.24497986\n",
            " 29.52409363 23.05329895 25.09847641 48.64552307 39.11393738 31.54583168\n",
            " 27.64482307 42.42412567 27.04351044 49.65961456 71.83491516 45.7494812\n",
            " 45.06056595 26.13061523 39.08345032 55.48997498 72.55202484 57.49437714\n",
            " 39.2684288  33.72306061 11.86582947 53.45615387 37.65969849 32.34793472\n",
            " 45.58630371 57.38786316 38.22003555 25.66630173 37.53328323 49.46619034\n",
            " 23.53722954 34.73928452 69.18148804 37.08648682 33.11409378 41.04795074\n",
            " 29.67212486 34.91665649 43.58631897 30.97907639 28.223526   24.60574722\n",
            " 37.32678223 36.87010956 48.44149399 36.23611832 23.16352272 26.43657684\n",
            " 35.68860245 32.14398956 31.36837959 33.2561264  38.08784866 45.60858154\n",
            " 46.73218536 26.56663132 28.60681152 27.51243973 19.47767639 22.40846252\n",
            " 21.70604134 28.70853615 25.49645996 21.02187157 12.25285244 14.74753857\n",
            " 35.28924179 60.67652512 12.8769083  53.48636627 39.41936493 32.68439102\n",
            "  1.31143999]\n",
            "10000\n",
            "6 0.2919572434902191\n",
            "[41.83490372 56.72824097 56.40291595 55.2282486  62.01174164 38.62090683\n",
            " 29.9269104  22.24573326 22.69960022 47.59119797 36.68567276 29.88113403\n",
            " 26.99119568 40.63518143 24.52794838 49.60281754 71.70980072 44.713974\n",
            " 46.77524567 24.35222816 38.32137299 55.72428513 71.66760254 59.64611053\n",
            " 35.27545547 33.55391693 11.57149029 52.0631485  39.13673782 31.6713028\n",
            " 43.13124466 56.5235405  36.83097839 26.05113411 37.311203   50.12406158\n",
            " 21.97395325 32.98941422 65.22024536 35.3989296  32.88187027 39.23324585\n",
            " 26.69345093 34.98456192 41.79134369 31.31753922 27.44747543 23.74461555\n",
            " 36.32245636 34.19860077 48.78245926 36.78681183 24.5931263  26.77801132\n",
            " 34.97995377 29.92848396 30.74797821 32.99298096 34.86039734 45.35614777\n",
            " 47.65333939 25.71768188 28.78763008 27.40548515 18.19840813 23.87937927\n",
            " 21.74928474 26.53086472 25.54904366 20.0189209  11.02840137 12.87620354\n",
            " 35.12900543 53.89564133 13.11310291 53.23449707 39.54495621 32.72212982\n",
            "  1.23709083]\n",
            "10000\n",
            "7 0.285604430270195\n",
            "[41.30411911 55.77884674 57.24614334 55.44554138 61.66175842 37.12957001\n",
            " 28.82995987 21.47761345 23.34769821 45.54033279 35.7502594  28.62043762\n",
            " 27.42433739 41.05913925 24.33028412 49.36843872 69.65879059 45.18245316\n",
            " 46.82323456 24.06215286 38.33431625 54.75222015 70.88863373 59.63812637\n",
            " 36.39987183 32.6657753  10.82360077 52.88954163 37.65931702 31.73017693\n",
            " 45.64399719 55.52513504 35.86523056 25.04709816 36.70983505 48.69212341\n",
            " 22.56264305 34.56425476 64.49609375 34.39855957 33.26128769 41.48353195\n",
            " 26.6566391  34.01730728 40.42145538 30.15962982 27.88216019 23.2214241\n",
            " 35.33539963 35.23655319 48.01024246 37.95851517 22.54662323 25.88918495\n",
            " 34.06303024 30.60904121 28.71968842 32.07991791 34.86822128 44.63432693\n",
            " 47.61616898 25.43139839 28.30282974 27.1165123  17.78928947 21.93185234\n",
            " 20.60000229 26.26121902 25.03009987 20.52173805 10.72378063 12.21471977\n",
            " 35.99215698 52.96202469 11.99350834 52.99551773 38.84524918 32.31941986\n",
            "  1.23785186]\n",
            "10000\n",
            "8 0.2826267181158066\n",
            "[41.46508026 56.31097031 56.66585159 55.09827805 60.48962402 34.99145889\n",
            " 26.70785141 21.46997833 22.88701248 46.73738098 36.53409958 29.00814247\n",
            " 27.24700165 41.05128479 24.74593353 48.82151413 69.46588135 45.16640091\n",
            " 45.51052475 24.25712967 38.31447983 55.53941345 70.10054779 56.80474472\n",
            " 37.37889099 32.45704269 10.24720287 50.97787476 37.12487411 31.46694946\n",
            " 44.80802917 56.81843567 36.2442627  24.28053665 36.04999161 48.57138062\n",
            " 21.53217316 33.11190796 66.12941742 34.17057037 33.57975388 40.80525208\n",
            " 26.84446716 33.29063416 41.24648285 30.97264481 28.6105423  23.54586411\n",
            " 35.5490799  34.14277649 47.79363632 35.92737579 21.78837585 24.90404892\n",
            " 34.23937225 30.23571587 29.04467773 30.93078423 35.83529282 44.69237137\n",
            " 46.95069122 24.16771889 27.20437813 27.13435173 18.43058205 21.32188988\n",
            " 19.82373619 25.98653412 25.05669975 20.46961021 10.83242702 12.13795853\n",
            " 35.61062241 55.91978455 11.48842335 52.94753265 38.70885468 32.2243042\n",
            "  1.20637023]\n",
            "10000\n",
            "9 0.2808361743807793\n"
          ]
        }
      ]
    },
    {
      "cell_type": "markdown",
      "source": [
        "### Switch to CNN"
      ],
      "metadata": {
        "id": "zfzifdPpZu4Q"
      }
    },
    {
      "cell_type": "code",
      "source": [
        "class Mnist_CNN(nn.Module):\n",
        "  def __init__(self) -> None:\n",
        "     super().__init__()\n",
        "     self.conv1 = nn.Conv2d(1, 16, kernel_size=3, stride=2, padding=1)\n",
        "     self.conv2 = nn.Conv2d(16, 16, kernel_size=3, stride=2, padding=1)\n",
        "     self.conv3 = nn.Conv2d(16, 10, kernel_size=3, stride=2, padding=1)\n",
        "\n",
        "  def forward(self, xb):\n",
        "    xb = xb.view(-1, 1, 28, 28)\n",
        "    xb = F.relu(self.conv1(xb))\n",
        "    xb = F.relu(self.conv2(xb))\n",
        "    xb = F.relu(self.conv3(xb))\n",
        "    xb = F.avg_pool2d(xb, 4)\n",
        "    return xb.view(-1, xb.size(1))\n",
        "\n",
        "lr = 0.1"
      ],
      "metadata": {
        "id": "fHIguDy3ZPtQ"
      },
      "execution_count": 31,
      "outputs": []
    },
    {
      "cell_type": "code",
      "source": [
        "model = Mnist_CNN()\n",
        "opt = optim.SGD(model.parameters(), lr=lr, momentum=0.9)\n",
        "\n",
        "fit(epochs, model, loss_func, opt, train_dl, valid_dl)"
      ],
      "metadata": {
        "colab": {
          "base_uri": "https://localhost:8080/"
        },
        "id": "MTgf3CDub2W_",
        "outputId": "2db3910e-9d18-46aa-b602-35b7c1b7b856"
      },
      "execution_count": 32,
      "outputs": [
        {
          "output_type": "stream",
          "name": "stdout",
          "text": [
            "[51.11180496 62.938694   70.74880219 64.14754486 89.07956696 48.90424347\n",
            " 49.9276886  42.31620789 26.58445168 59.9997139  44.79391479 35.52417374\n",
            " 43.66661453 30.09625435 38.70769501 49.86749268 77.34181213 41.78613281\n",
            " 31.64097023 34.53768921 34.14665985 63.13961029 71.09099579 52.58510971\n",
            " 44.26239014 50.33490753 29.02739525 52.40432358 41.35581589 35.45253754\n",
            " 61.6088028  90.9259491  48.78794861 37.83561707 42.4691658  47.41329956\n",
            " 34.82881546 36.87698746 87.37497711 47.80644989 44.30540466 48.92124939\n",
            " 37.06272888 41.75455475 41.28052902 39.25613022 33.61138153 29.75253868\n",
            " 53.03240967 44.86314011 54.11745834 38.73931122 26.31117821 37.32123947\n",
            " 31.12054634 48.9892807  49.53905869 49.76937103 33.24503326 53.11366653\n",
            " 73.18126678 37.19957733 51.97512817 32.96449661 18.29849243 37.7022934\n",
            " 40.71867752 36.65693283 26.08643913 27.62277603 19.15006065 13.87357807\n",
            " 79.36526489 76.90438843  9.31477547 61.73272705 62.66643524 51.36452866\n",
            "  4.27195692]\n",
            "10000\n",
            "0 0.3600605232715607\n",
            "[22.77193451 48.31626511 48.62401962 46.65607834 52.58076477 34.15034485\n",
            " 33.58495712 29.24944878 13.83456707 44.51092911 27.0934391  20.49815941\n",
            " 18.53662491 14.03237915 21.48527336 32.98116302 69.27937317 36.99899673\n",
            " 20.96758652 14.96412468 16.8455658  34.41042709 49.09848022 35.71116638\n",
            " 27.17268372 23.04842377 18.99798393 39.85245132 32.91851425 17.47351837\n",
            " 34.76029968 50.4048233  17.57127571 22.43881035 26.92841339 40.28196335\n",
            " 21.0055275  25.86001778 71.63964844 32.69940186 23.00508308 28.36672592\n",
            " 19.6914463  21.92340469 30.33456612 24.14128876 21.84255219 16.08316231\n",
            " 29.51080322 33.39580917 36.72787094 21.41299248 13.44550514 21.36736488\n",
            " 18.84999275 26.50431633 27.21301842 28.26553535 14.62997723 26.10445976\n",
            " 47.60055161 27.03913307 24.41410446 17.24470139  7.16810226 16.9135952\n",
            " 26.62394333 19.45757866 19.97673225 21.38839912  5.55777597  8.33904839\n",
            " 37.3892746  51.11331177  6.1016798  56.04527664 42.72579193 33.31473541\n",
            "  1.13287854]\n",
            "10000\n",
            "1 0.2242598315000534\n",
            "[19.95449448 48.95864105 46.01288986 47.8659935  55.28394318 29.71846771\n",
            " 27.98055077 15.41279697 12.59222031 37.87254715 18.11355782 24.18851089\n",
            " 23.04189301 10.28246498 11.81748009 30.02669716 60.6811409  31.06760979\n",
            " 11.46966267 15.43161392 14.85736656 20.41997147 47.43442917 30.46493149\n",
            " 23.51107597 21.2599659  14.11250591 30.40174866 26.05591202 14.51915836\n",
            " 33.45435715 42.89050293 23.07470894 20.7233963  31.53815651 32.38168716\n",
            " 15.64672947 24.14154816 64.82518768 33.28646469 22.27026558 25.6752758\n",
            " 22.22686577 23.30397606 29.01725006 28.43858719 23.92198181 15.2277689\n",
            " 29.06105995 29.62395096 34.82886124 19.89178085 11.5972681  14.38177776\n",
            " 13.07671165 23.37479591 22.30603981 27.71276665 22.88553619 22.5445385\n",
            " 40.51424789 18.87190247 28.9185009  13.90942192 10.64605427 12.69360065\n",
            " 18.54316521 19.07897377 16.80038071 20.77612686  6.13234234  6.41730738\n",
            " 28.47169304 57.00960159  6.90374565 62.84237289 46.26421356 26.39280319\n",
            "  1.87515044]\n",
            "10000\n",
            "2 0.20472016441822052\n",
            "[14.69591045 35.16482925 29.52571678 40.37435532 40.67681503 28.11185646\n",
            " 36.37211227 19.95244026 17.2121048  22.18669701 15.43304634 20.23250771\n",
            " 25.09505463 12.38518429 14.59344006 28.09182358 54.41604614 20.28801346\n",
            " 11.8605814  18.9020443  18.64047623 29.48319435 42.74869537 39.29642105\n",
            " 15.85033131 21.42201614 10.37883091 37.51334381 25.92114067 24.31925201\n",
            " 48.24876022 29.02043343 18.70014763 13.87814331 21.99824333 25.80943298\n",
            " 16.97994614 27.83704567 53.98360062 24.53886223 23.05541611 32.27688599\n",
            " 23.71709633 16.2602272  20.5464592  24.77433777 16.34501457 12.81474781\n",
            " 29.10643196 30.74304771 22.39047813 29.20661354 19.29934311 15.43779087\n",
            "  7.66043997 22.34982109 25.0315094  24.69138145 11.69001007 26.92694473\n",
            " 36.20320511 22.0097332  31.34778404 16.96557617  6.35759354 10.00532913\n",
            "  8.73537445 17.76010895 13.36840725 15.39445686  4.89030027  6.0128355\n",
            " 23.90328026 40.60927963  1.03161931 57.87002563 42.12709808 30.36479187\n",
            "  1.75317252]\n",
            "10000\n",
            "3 0.18731728657484054\n",
            "[16.94168663 41.08485794 39.08603287 42.62060165 34.14276123 28.67206955\n",
            " 16.0401783  15.3481226   9.31956863 23.44939804 14.91690445 19.04044151\n",
            " 20.82222939 13.01884747 13.69218922 26.84915924 49.4592514  20.41283417\n",
            " 24.75979233 12.76695824 14.48530579 30.86245918 40.79286575 44.20170975\n",
            " 23.19138527 18.53407097 15.91698265 29.6321907  32.05818176 21.2886467\n",
            " 30.58659554 33.79584885  7.46814156 23.09431076 15.25486469 29.05636406\n",
            " 13.71761227 22.27545738 49.76540756 20.98153687 27.05327606 26.33463097\n",
            " 14.90519047 14.39594841 28.6129055  27.870718    9.90197086  8.92087841\n",
            " 29.74917412 24.59991074 25.63848114 17.84252167 16.84321213 16.79987335\n",
            " 15.08217335 11.22788906 20.09221649 17.81983757 14.78552532 31.98335075\n",
            " 37.23740005 13.44309902 19.40816116 13.72845364  3.68758059  9.8000164\n",
            " 15.89409828 11.2956028  13.18190002 35.67533112  3.92650199  2.47655463\n",
            " 13.64731121 40.23826218  2.62924743 49.65283966 30.85712624 30.58866692\n",
            "  2.90246534]\n",
            "10000\n",
            "4 0.17501341259479522\n",
            "[10.85785484 32.74423599 32.10793304 37.2764473  28.18733215 19.65042496\n",
            " 11.25239372 13.64404583  8.23393154 22.10993958 14.96785927 19.93657303\n",
            " 18.79437637  7.16952085  8.34243011 20.56540871 44.99554062 17.5464859\n",
            " 12.85495567  8.70482445  7.8121829  27.8017025  32.16883469 36.43379593\n",
            " 15.17094135 16.4369297   9.1542244  22.25335503 24.29107666 12.52516079\n",
            " 29.60263252 29.71531487  6.69010162 14.74091434  9.81955338 25.4386692\n",
            "  8.67823124 14.31821346 39.28549194 13.94276333 19.96483612 28.3856163\n",
            " 16.68777657  8.00166988 25.24573135 23.7407093  11.92585564  5.96033144\n",
            " 19.13321686 24.42930412 26.03479004 14.12615013 11.2492981   8.68915462\n",
            "  8.69165039 11.06581593 20.56805992 12.2144146  12.67773914 17.69212723\n",
            " 30.42788315 16.11897659 19.11793518 11.02042294  3.09878182  6.25502443\n",
            " 14.30125427 11.03058052  9.90526009 26.94212532  2.11290431  1.30620456\n",
            " 14.56264877 25.0562706   1.19331455 52.44521713 31.10284424 22.51381302\n",
            "  1.34558618]\n",
            "10000\n",
            "5 0.14125638991594314\n",
            "[13.22327518 29.13396454 25.59186935 39.61870575 29.69993019 17.86215401\n",
            " 17.83553886 14.80044842  9.74020672 20.4945488  14.81555939 22.3767128\n",
            " 19.77657318 10.3562994  10.05600262 22.79105949 35.32279968 16.92746735\n",
            " 14.43324757  8.62110519 13.47441292 30.33769608 33.94851303 36.57865906\n",
            " 17.01729393 21.5704937   6.60527086 24.87361145 30.36450195 16.28606606\n",
            " 34.98613739 30.09345818  6.9449029  11.47557259  9.82389832 34.32255173\n",
            "  7.91443634 12.9769268  53.31741714 12.97576714 24.89474678 27.72441292\n",
            " 14.40966034 13.15423107 28.08381844 30.30187035 13.20182419  5.75601578\n",
            " 21.46160507 22.40956306 22.45241928 14.02835083 12.42306328 10.87300968\n",
            "  6.76746655  9.95596886 22.22835541 12.83497143  7.23533773 16.88025665\n",
            " 32.43282318 14.73489475 15.4698925   9.70437813  2.27830648 10.51902962\n",
            " 16.56757736  5.71214962  8.24577808 18.50893021  1.92614174  1.52494931\n",
            " 25.79832077 45.02256775  2.26088119 55.54345703 34.83871841 23.96419525\n",
            "  2.74576283]\n",
            "10000\n",
            "6 0.15042407579421996\n",
            "[13.64467144 27.96118736 32.7404213  29.36020851 30.76023674 16.27448082\n",
            " 23.76076508 16.83740616  8.73443794 30.31992531 24.09718513 16.17061043\n",
            " 18.00604248 10.39859772  8.5926218  27.80345917 38.87607574 24.74953842\n",
            " 13.12989426  5.18557835 17.26150513 28.00268364 34.25952911 36.81977844\n",
            " 23.83672333 13.48566723  6.46115637 21.37314415 20.04519844 15.01302338\n",
            " 37.66590881 22.92192841 18.11502647 10.98752785 10.51813316 28.66379356\n",
            "  8.50714397 14.39304352 47.43393326 10.87586594 16.908741   34.09901047\n",
            " 17.32344246 13.86706829 17.60108566 17.43069267  8.04960537  6.90510464\n",
            " 21.3239994  25.03940582 13.34350586 14.27822018 11.56469631 13.91117668\n",
            "  8.67579079 16.38778114 22.57661247 16.51039696  8.76450157 14.15650463\n",
            " 28.45279884 18.58341789 20.06010628  6.92605352  4.25105047  5.46350956\n",
            " 18.50469017 14.78721619  8.83505821 12.11491108  1.81512475  3.94626975\n",
            " 15.08009434 47.38542938  2.16984987 56.30767441 32.1656456  19.63371277\n",
            "  1.58591819]\n",
            "10000\n",
            "7 0.1480829931974411\n",
            "[13.07169056 26.09804344 32.6608429  35.51424789 24.53808022 16.62826729\n",
            " 16.27907753 11.22234535  8.66970825 21.56992912 15.08320999 24.44111443\n",
            " 20.29574585 15.44929314  5.87302828 18.84535027 54.09817505 17.65770149\n",
            " 10.51716518  6.03828382  9.29275799 24.71478844 35.24903107 28.16716576\n",
            " 22.11333275 14.25669956  3.61206055 27.15043068 23.95660782 16.76730347\n",
            " 46.61216736 28.41724014 14.07659054 12.71976566 10.35838127 28.43458557\n",
            "  8.59835815 23.00737762 56.08364868 15.87780666 21.51761246 33.77366257\n",
            " 15.80101871 16.60087013 23.31329346 21.60490227 15.60830975  3.65011096\n",
            " 20.10368729 20.93967438 22.74532127 14.27436447  7.29430008 12.74917793\n",
            "  7.09870672 12.6180172  18.19894981 10.91272354 12.20370293 16.39188004\n",
            " 23.56897926 11.08049393 18.82324791  8.38759899  3.21944451  4.00369024\n",
            " 13.13618088 11.26430893 10.05704117 17.59067535  2.38474917  8.37360096\n",
            " 21.74868584 53.19800568  2.42380214 60.71148682 35.6583786  30.50572968\n",
            "  1.65015972]\n",
            "10000\n",
            "8 0.150920394551754\n",
            "[13.70263672 25.50257301 32.59386826 32.37631989 20.56164742 11.97879887\n",
            " 11.30572605 15.40247726 10.16992664 18.56370544 13.72641659 19.45351791\n",
            " 15.25848103 10.31005859  6.01271057 17.07395172 34.60203552 20.79674339\n",
            " 13.81277752  6.93535185 10.44221306 25.20821571 32.32945633 24.52069092\n",
            " 17.11660194 15.81001854  5.90347052 20.4765873  23.73068047 13.2305727\n",
            " 30.46888542 26.9495163  13.20629692  8.2870779   8.84648037 25.58999062\n",
            "  3.98460555 11.01003838 45.31305695 14.31568718 14.3459034  23.1967392\n",
            " 14.61379242  6.43035078 19.86402702 25.35906029 14.3561573   6.69599342\n",
            " 18.42276192 20.48084259 17.83037186 12.45590305  8.96005726  7.94997454\n",
            "  9.29513454 11.21982384 18.13729668  6.42016029  9.37445831 13.77228546\n",
            " 26.21455193 15.45904446 12.92521286  7.89043856  3.34056187  4.4984889\n",
            " 11.53142262  9.91204643  7.14306641 12.83034134  1.46336174  1.11365759\n",
            " 17.55513954 36.14946365  1.45721352 55.2936554  32.41518784 19.6323204\n",
            "  1.93469214]\n",
            "10000\n",
            "9 0.1284820828676224\n"
          ]
        }
      ]
    },
    {
      "cell_type": "markdown",
      "source": [
        "### Using `nn.Sequential` to run the code in a sequence manner. This is a simpler way of writing our neural network.\n",
        "\n",
        "1. Can also define a new layer (custom layer)"
      ],
      "metadata": {
        "id": "LZdlQBytPNQe"
      }
    },
    {
      "cell_type": "code",
      "source": [
        "class Lambda(nn.Module):\n",
        "  def __init__(self, func):\n",
        "     super().__init__()\n",
        "     self.func = func\n",
        "\n",
        "  def forward(self, x):\n",
        "    return self.func(x)\n",
        "\n",
        "def preprocess(x):\n",
        "  return x.view(-1, 1, 28, 28)"
      ],
      "metadata": {
        "id": "_kSTdhLGcOfU"
      },
      "execution_count": 34,
      "outputs": []
    },
    {
      "cell_type": "code",
      "source": [
        "model = nn.Sequential(\n",
        "    Lambda(preprocess),\n",
        "    nn.Conv2d(1, 16, kernel_size=3, stride=2, padding=1),\n",
        "    nn.ReLU(),\n",
        "    nn.Conv2d(16, 16, kernel_size=3, stride=2, padding=1),\n",
        "    nn.ReLU(),\n",
        "    nn.Conv2d(16, 10, kernel_size=3, stride=2, padding=1),\n",
        "    nn.ReLU(),\n",
        "    nn.AvgPool2d(4),\n",
        "    Lambda(lambda x: x.view(x.size(0), -1)),\n",
        ")\n",
        "\n",
        "opt = optim.SGD(model.parameters(), lr=lr, momentum=0.9)\n",
        "fit(epochs, model, loss_func, opt, train_dl, valid_dl)\n"
      ],
      "metadata": {
        "colab": {
          "base_uri": "https://localhost:8080/"
        },
        "id": "mVJNuiNzQVli",
        "outputId": "5ceb448a-abcf-4301-e5e5-b2f67fd8c3e8"
      },
      "execution_count": 36,
      "outputs": [
        {
          "output_type": "stream",
          "name": "stdout",
          "text": [
            "[ 53.89754486  69.15129089  76.88831329  64.97843933  69.87493896\n",
            "  66.76889801  42.62410736  40.89213943  29.54675865  70.97997284\n",
            "  37.2008667   33.73949051  51.3779068   35.34889603  42.87014771\n",
            "  57.87327576 104.81302643  49.79519653  52.4972496   37.6662941\n",
            "  43.45094681  89.98718262  83.30302429  85.7991333   45.81857681\n",
            "  50.5215416   39.80610275  69.58830261  47.56838608  33.9486351\n",
            "  52.79854965  94.84523773  40.4915123   49.18824768  32.00238419\n",
            "  58.10663605  29.10079002  39.68228912  69.53858185  52.65586472\n",
            "  43.86400986  48.72898483  38.35483932  49.13260269  57.70573425\n",
            "  50.13880539  40.61616516  28.93692398  55.91607285  45.3368187\n",
            "  70.82209015  47.18091202  42.01590347  43.35456848  34.3469429\n",
            "  43.2367897   54.17461777  46.34595108  45.20765686  52.26043701\n",
            "  56.8829155   48.37976074  55.7062149   33.87276459  30.48711967\n",
            "  51.32304382  41.41930771  46.7974472   34.00479507  43.32444382\n",
            "  18.44015312  15.28082275  62.6883812   69.36136627  16.64419746\n",
            "  66.57650757  62.6907692   57.73314667   3.58824086]\n",
            "10000\n",
            "0 0.3949864903688431\n",
            "[24.38740158 48.57881546 52.97080612 49.70148468 54.29067993 39.91934967\n",
            " 33.15727234 23.48054886 24.77888489 45.68296051 24.48812675 25.29735947\n",
            " 29.9885788  24.64017487 24.35405159 36.50807953 72.21035004 37.29858017\n",
            " 28.66142654 27.92801476 33.39636993 50.62136841 65.4593811  56.73894882\n",
            " 25.77776146 28.53046227 19.27575874 35.71549606 27.9134407  17.20305061\n",
            " 31.19268608 48.18572998 27.72535515 31.05970001 23.95905495 31.10088158\n",
            " 17.54301071 28.94847298 45.2455101  36.62244415 19.553442   29.76627731\n",
            " 26.84363174 27.7567997  38.13704681 35.16682434 22.62573433 19.84234238\n",
            " 36.31957245 30.6589756  41.836483   24.69223785 28.84282112 23.94957161\n",
            " 22.20268059 24.84269333 34.70310211 26.69204712 23.38162994 31.35982895\n",
            " 37.18121338 30.60486412 39.74971008 17.36699867 18.01682091 24.05748558\n",
            " 19.88214111 23.08193016 14.44842815 21.4878273   8.5848093  16.54174614\n",
            " 45.85207748 56.38863754  4.94845247 50.50687408 40.91454315 27.32275009\n",
            "  1.36942744]\n",
            "10000\n",
            "1 0.2478018309831619\n",
            "[16.26231194 44.66320801 45.10205841 44.13160706 41.41952515 31.70305061\n",
            " 32.2677269  22.3259964  15.55686283 42.27100372 17.49021721 18.05601692\n",
            " 24.29319763 22.63881302 16.99759674 31.84894943 53.8852272  25.56967545\n",
            " 19.70228195 21.26251602 26.37845993 46.44832611 55.60962677 34.65828705\n",
            " 21.11355209 28.72113419 14.56616211 32.2070961  20.93499756 14.52701759\n",
            " 23.06845665 36.90847778 21.80683517 19.97689247 21.38056755 24.16411018\n",
            " 14.54653835 28.41283607 36.98572922 24.7200737  17.88566971 24.25687408\n",
            " 20.12143898 13.35322952 34.67219162 27.64679718 20.99561501 14.09928989\n",
            " 25.56164932 25.89983368 28.77874947 22.85017967 25.6890316  17.42249107\n",
            " 18.54812622 24.38280487 28.11128998 18.53551483 14.70445538 34.21720123\n",
            " 25.95586967 21.1890049  32.53111267 13.51681519 11.28657341 15.31686878\n",
            " 18.14168358 17.78063011  9.74277592 15.79318237  3.77883458  3.70746565\n",
            " 28.6973114  53.27344131  3.88808751 51.77956772 42.44638824 24.35235596\n",
            "  0.61675811]\n",
            "10000\n",
            "2 0.19861101796627045\n",
            "[22.24940681 49.70183182 45.73822403 35.5890007  47.25814438 36.46172714\n",
            " 40.15260696 25.35867691 22.38711548 50.71469498 23.23620605 19.56348419\n",
            " 17.41222382 27.15643501 28.73510551 41.19343948 66.19399261 30.33069038\n",
            " 19.22813988 25.07549667 27.12376595 44.83525848 61.608181   39.61077499\n",
            " 27.38695335 36.19699097 16.78815079 35.3051033  28.94227409 15.65385914\n",
            " 22.95085335 40.34852219 28.83189583 18.37002563 24.18261909 28.56291389\n",
            " 14.37072372 14.56800842 38.59328079 36.86663437 22.49295235 21.53835297\n",
            " 28.1945076  21.04715729 44.62418365 40.14067459 28.76792908 16.43911743\n",
            " 29.93423271 26.42421532 31.56435204 22.4888401  27.72927094 23.94269562\n",
            " 15.70897007 28.75555992 46.55449677 28.61018753 20.28411102 36.17663574\n",
            " 34.00208282 26.11247635 23.55734062 18.22316551 13.7504425  17.91627693\n",
            " 23.85153198 23.17734909 10.38828659 14.22509766  7.75729084 10.80336571\n",
            " 24.75094414 76.06312561 13.42874622 57.8401413  44.39556503 25.82364655\n",
            "  0.45435336]\n",
            "10000\n",
            "3 0.23027731037437915\n",
            "[21.18441963 51.36283493 51.12634659 35.15395355 40.25955963 48.26617813\n",
            " 43.47524261 24.65524864 18.99940681 45.86675644 17.62795258 21.00644684\n",
            " 23.32386589 28.33809471 26.78846359 21.07990646 55.13206482 32.86686325\n",
            " 20.53170395 23.2732048  23.25851631 39.59387207 63.88024902 54.65554047\n",
            " 30.29336929 29.32956696 20.9076004  43.01146317 23.45133591 18.59701157\n",
            " 16.43440628 34.86125946 21.71417809 23.1631012  30.9303894  29.93292999\n",
            " 15.77662563 23.57551384 34.89548874 32.56726837 21.15869713 24.54771042\n",
            " 28.97286224 18.9190731  40.79659271 37.79002762 31.61068535 12.91207123\n",
            " 31.49878502 33.72026062 28.68506813 22.27482796 22.03177834 27.14177704\n",
            " 17.41123962 22.89714241 38.9506073  27.30276489 21.94946098 43.59704208\n",
            " 31.15185165 30.61130714 26.69963074 20.55871773  9.59598732 19.99954605\n",
            " 16.44387054 25.30789566 16.82085037 18.71871948  9.06953335 10.08921242\n",
            " 25.80802727 68.36621094 11.79631424 57.52667236 44.05640411 23.42166328\n",
            "  0.46753153]\n",
            "10000\n",
            "4 0.22818266204297544\n",
            "[16.44823265 29.18478012 44.00559616 34.51489258 33.71867371 23.99729919\n",
            " 17.27008629 16.86447716 15.52741432 30.84552765 17.60411072 11.67923164\n",
            " 17.50238419 19.58738327 14.96936893 28.75761032 48.36491776 26.98858643\n",
            " 11.71494007 12.33656502 14.8835001  33.95814133 42.15571976 28.21410942\n",
            " 19.20997047 18.74894524 11.2880106  25.75835228 19.26653099 15.75357819\n",
            " 27.39792633 28.32873917 20.21009636 11.37826729 13.17269897 24.69265366\n",
            " 12.55186272 17.27103233 26.34483528 23.54726601 27.37659836 31.21592331\n",
            " 18.40966797 14.10068035 28.15694618 20.5981369  20.67864037 12.56941223\n",
            " 21.18582916 21.17824936 32.1204567  21.63047028 14.59883595 15.20510292\n",
            " 14.41774178 25.74419594 23.8646698  14.79575825 13.95182991 26.54764557\n",
            " 17.84624863 18.31350517 25.43729591  9.04523087  6.44294882 11.28211784\n",
            " 13.74884224 15.04280853  5.98748016  8.4752388   1.88704813  5.96139717\n",
            " 21.63451195 35.50405121  1.51245666 49.41788101 35.1419754  23.09565544\n",
            "  1.16404951]\n",
            "10000\n",
            "5 0.16313018493652343\n",
            "[11.6293211  45.0749588  38.87360382 29.13634109 37.1909256  25.65269852\n",
            " 19.75736618 14.65423203  9.44217491 35.9044342  14.0778532   8.74641228\n",
            " 16.94330025 19.36616135 13.10589695 16.35662842 41.60346603 29.3556118\n",
            " 13.93297291 12.49750805 15.09075451 30.7921257  46.58766556 29.89473534\n",
            " 18.18813896 23.54181099 13.72363091 24.66271019 17.18385506  9.23061085\n",
            " 21.98661232 34.78251648 18.81976318 15.04136848 10.1935997  18.38924408\n",
            "  9.55769348 13.53278351 22.3635006  24.70095062 22.4529686  25.86554146\n",
            " 19.13565636 11.31752205 29.68473053 27.63126564 16.44011497 10.18746758\n",
            " 17.67267418 23.94003296 22.09858131 15.40000916 12.42346668 14.87643909\n",
            "  7.443501   14.66666794 25.80465698 11.4815464  10.66176224 22.15433693\n",
            " 21.48944664 16.30626678 22.0292778   8.63366127  4.05416346  8.8522377\n",
            " 11.52128887 12.41226292  3.70952773  6.50516319  1.61855626  4.0126729\n",
            " 22.06474686 29.27564812  3.72992992 50.21135712 33.82221985 18.71363258\n",
            "  0.30714902]\n",
            "10000\n",
            "6 0.15121740890443325\n",
            "[16.79687881 33.89065933 31.52116585 22.72430801 34.10755539 31.71830368\n",
            " 25.30647469 23.41344833 14.80359459 27.80583572 14.05075264 11.35744286\n",
            " 24.49460983 16.01902008 11.63509941 27.79184723 44.74452591 31.45729065\n",
            "  8.80283546 13.50585175 14.63723087 28.13762665 39.84057236 28.95674896\n",
            " 15.94369507 16.88161278 13.24380398 19.72207642 12.58188725 10.17455101\n",
            " 23.8666153  23.30612946 20.11863518 11.30680275 10.78939629 19.83090401\n",
            " 13.48263836 11.7458868  24.77891922 24.9747448  23.43268585 34.53241348\n",
            " 15.20145035 11.83956814 24.35482216 23.04475975 15.67430019 13.22938919\n",
            " 18.42780113 17.26504517 26.63676262 19.80954742 17.34677505 14.13203812\n",
            " 12.3535099  22.9870491  20.3638382   7.92080021 13.76723862 27.241642\n",
            " 23.75853729 18.38493347 26.4319973  10.1416893   6.05105734  8.29336071\n",
            " 16.62582779 14.82308769  4.02555084  4.67005873  1.74580622  4.62045527\n",
            " 23.90952682 34.48930359  1.83155823 54.53984833 34.60229492 22.52225685\n",
            "  0.69716668]\n",
            "10000\n",
            "7 0.15419937317371368\n",
            "[13.34439564 26.76733017 28.6911087  27.30199242 29.04892349 24.3787632\n",
            " 15.4990654  19.25221062 14.91718674 25.30925369 16.29019928 15.69700623\n",
            " 17.52778435 17.33056641 10.08349609 20.66087341 41.90583801 23.98613739\n",
            "  8.70087433 10.80693817 12.51766491 29.83778763 31.39937401 19.12776566\n",
            " 17.75199699 18.36580849 13.32084751 24.38308334 18.01353836 13.86649227\n",
            " 21.31450081 28.67195702 10.68604374 12.36508846 10.49875641 17.78791809\n",
            "  6.29966688 14.98649693 17.28352737 18.57985878 19.02463913 26.44558144\n",
            " 15.03184605  9.63745975 18.56549644 17.28708076 12.52529716 10.77257919\n",
            " 17.27069283 13.85750675 28.60750008 16.37929916 12.71879101 17.25414658\n",
            "  7.77400208 13.93848228 18.16488266 10.07029915 14.88834381 19.91077042\n",
            " 18.56936264 12.42580223 23.66778564  7.99767208  3.2315526   8.29384899\n",
            "  7.03100824  9.11213017  3.78579354  8.72315788  2.65564299  5.42588186\n",
            " 16.40585518 20.28785515  2.55872226 45.44160461 29.95420647 20.65289688\n",
            "  0.29766551]\n",
            "10000\n",
            "8 0.1331201259046793\n",
            "[ 9.21520424 31.30500031 33.34933853 20.09323692 27.73544693 22.00584221\n",
            " 18.09964943 16.75641251 11.04952335 25.20097351 13.12829971  9.55419827\n",
            " 16.31109619 20.46281242 10.71895409 14.98575497 31.22118568 21.23277473\n",
            "  7.77969503 10.08373737 13.42620564 20.17251396 33.01831436 28.54230118\n",
            " 13.54870415 15.39223862  8.49286366 23.15033531 15.0916214  14.05993271\n",
            " 15.67375851 19.76358032 11.75750351  9.42798233  7.03228951 16.81137657\n",
            "  6.37946367 13.02536583 17.43834305 18.48435974 15.3920517  26.2088604\n",
            " 13.66489506  9.3481884  24.79446983 18.69032478 13.49186611  5.7603035\n",
            " 14.32475281 14.28966236 19.41035843 16.81083488  7.99624109 13.51209736\n",
            "  6.7467804  12.75112915 21.7854805   8.89242649 11.85298252 20.05508041\n",
            " 14.20594978 12.90089321 19.56588745 10.14460468  2.07894826  7.9253335\n",
            " 13.02479553  8.18964863  4.75844288  7.60469055  1.01501334  5.91450739\n",
            " 20.85089493 22.22869873  2.12211299 45.66448593 30.20668411 17.50724602\n",
            "  0.35351789]\n",
            "10000\n",
            "9 0.1233019332408905\n"
          ]
        }
      ]
    },
    {
      "cell_type": "markdown",
      "source": [
        "### Wrapped DataLoader\n",
        "1. The code assumes that the input is a 28*28 long vector\n",
        "2. It assumes that the final CNN grid size is 4*4"
      ],
      "metadata": {
        "id": "-YAVRiFbRt8H"
      }
    },
    {
      "cell_type": "code",
      "source": [
        "def preprocess(x, y):\n",
        "  return x.view(-1, 1, 28, 28), y\n",
        "\n",
        "class WrappedDataLoader:\n",
        "  def __init__(self, dl, func):\n",
        "    self.dl = dl\n",
        "    self.func = func\n",
        "\n",
        "  def __len__(self):\n",
        "    return len(self.dl)\n",
        "\n",
        "  def __iter__(self):\n",
        "    batches = iter(self.dl)\n",
        "    for b in batches:\n",
        "      yield(self.func(*b))\n",
        "\n",
        "train_dl, valid_dl = get_data(train_ds, valid_ds, bs)\n",
        "train_dl = WrappedDataLoader(train_dl, preprocess)\n",
        "valid_dl = WrappedDataLoader(valid_dl, preprocess)"
      ],
      "metadata": {
        "id": "HCeVy0bDRZaA"
      },
      "execution_count": 37,
      "outputs": []
    },
    {
      "cell_type": "code",
      "source": [
        "model = nn.Sequential(\n",
        "    nn.Conv2d(1, 16, kernel_size=3, stride=2, padding=1),\n",
        "    nn.ReLU(),\n",
        "    nn.Conv2d(16, 16, kernel_size=3, stride=2, padding=1),\n",
        "    nn.ReLU(),\n",
        "    nn.Conv2d(16, 10, kernel_size=3, stride=2, padding=1),\n",
        "    nn.ReLU(),\n",
        "    nn.AdaptiveAvgPool2d(1),\n",
        "    Lambda(lambda x: x.view(x.size(0), -1)),\n",
        ")\n",
        "\n",
        "opt = optim.SGD(model.parameters(), lr=lr, momentum=0.9)\n",
        "fit(epochs, model, loss_func, opt, train_dl, valid_dl)\n"
      ],
      "metadata": {
        "colab": {
          "base_uri": "https://localhost:8080/"
        },
        "id": "Pk5fKXzpSfwk",
        "outputId": "521ca8e9-bd6f-42a0-d3d5-6df886db2521"
      },
      "execution_count": 38,
      "outputs": [
        {
          "output_type": "stream",
          "name": "stdout",
          "text": [
            "[ 48.47676849  64.5747757   79.45768738  82.41419983  70.44192505\n",
            "  59.9982605   49.1182251   54.86306381  32.80760193  58.36128616\n",
            "  46.15488815  45.54679489  49.95667648  32.67163467  36.05976486\n",
            "  46.76852798 102.61253357  55.54328156  40.36012268  31.09958458\n",
            "  53.24646759  69.71189117  81.3194809   47.32057953  37.56684494\n",
            "  32.30944061  44.64486694  81.64476013  36.19651031  53.0967598\n",
            "  57.07952118  70.39124298  39.84942627  43.55233765  47.37615585\n",
            "  57.12805557  37.6593895   50.72864151  74.14946747  49.25014496\n",
            "  32.16707993  51.09923172  40.52609253  42.00941849  38.15499496\n",
            "  39.39924622  35.17324829  32.33623123  72.43038177  51.30109406\n",
            "  75.923172    47.73909378  27.63502693  37.00816727  32.48014069\n",
            "  40.20508575  48.21294785  44.46417618  54.99011612  58.43823242\n",
            "  72.4434433   42.25799179  42.39096451  33.35075378  40.23280334\n",
            "  33.37422562  30.94504929  46.18081665  27.07321167  36.8910141\n",
            "  15.18828869  19.78216934  70.79368591  63.57203674  10.93037987\n",
            "  68.30718994  47.87870789  57.10995102   3.05825949]\n",
            "10000\n",
            "0 0.3814963709354401\n",
            "[25.01449966 49.93424988 54.3451004  49.43712616 58.09538651 33.83826447\n",
            " 15.85853481 22.55122948 13.44332981 38.57257843 27.72461891 36.10193634\n",
            " 32.2208786  16.2263279  20.10301971 27.77189064 52.62982941 28.01581383\n",
            " 21.03191185 12.31573296 32.22061157 37.1919632  50.60593414 39.69857407\n",
            " 25.45346642 23.23311234 22.12164688 44.82187271 26.43354034 30.31536293\n",
            " 31.31727409 49.47947693 24.33329201 28.2149601  28.87410927 27.74606705\n",
            " 15.43908405 29.65644455 43.05730438 34.15333557 19.79039383 27.37708282\n",
            " 20.73769379 21.21660614 25.84622383 28.03398132 23.96201134 16.53923798\n",
            " 45.35422134 30.52867126 38.5394249  17.33866119 18.84928894 20.40515327\n",
            " 19.44199944 22.34112167 21.3878994  24.56459236 18.98310089 35.97859573\n",
            " 50.98145676 25.60514832 29.09243011 17.22033501 13.80480003 13.65200806\n",
            " 19.2151947  28.11065102 14.16253185 30.68550301  3.14009404 10.53958225\n",
            " 34.8222084  52.24134445  1.92951941 44.82243729 38.85205841 27.97926903\n",
            "  0.94861513]\n",
            "10000\n",
            "1 0.22346208410859109\n",
            "[22.92176628 48.12283325 43.52983856 41.17906952 39.92382431 34.41143417\n",
            " 33.32361984 23.49017525 14.60988998 37.12197495 21.69488144 26.74147606\n",
            " 30.18911934 20.55805779 17.11452675 30.05539322 36.01503754 27.08836365\n",
            " 25.88667488 12.982234   26.84135818 41.3504715  42.8307457  43.62867355\n",
            " 23.50365257 21.37140274 16.08506584 37.4826355  24.80262566 29.12038422\n",
            " 36.88805771 40.82548904 27.65317154 23.70215988 24.62850952 24.47914124\n",
            " 15.00191021 24.33381844 47.44394302 29.79188728 18.51257896 27.5568924\n",
            " 19.73273659 26.09651947 21.7085743  23.13004494 20.8511467  14.50075817\n",
            " 45.98978424 22.73168945 31.86090279 29.77274895 15.85248375 15.16657448\n",
            " 13.83946896 25.94556427 34.06608582 21.22173882 17.48732185 32.92941666\n",
            " 34.38154984 26.1876564  29.06054115 12.80420208  9.7140007  11.39197254\n",
            " 19.61151123 19.10159302 11.63257217 12.08649349  5.85456228  7.06203747\n",
            " 33.39237976 31.28290749  3.53577185 51.53776169 45.21416855 32.64430237\n",
            "  0.78837919]\n",
            "10000\n",
            "2 0.2064962688922882\n",
            "[16.55760574 42.32860184 50.72514343 40.25521469 32.08366394 25.82188416\n",
            " 17.80177116 17.71447563 10.41012192 36.67860794 21.59907532 23.35217667\n",
            " 26.52655029 18.52326775 10.78824615 19.79939651 43.64006042 17.9064064\n",
            " 20.52998543  8.37931442 19.52592468 31.35803413 39.11070633 50.52402496\n",
            " 25.12222481 20.4788723  12.69631863 34.32958221 27.03272057 22.23821068\n",
            " 32.08787537 41.82852173 16.5457325  21.10096169 14.51024246 19.08834267\n",
            "  8.42254734 19.29447365 44.88614273 22.31833458 19.98094559 23.60593987\n",
            " 21.02600861 22.63529968 29.7988472  19.08018112 19.37980652 10.0213232\n",
            " 34.31534958 17.73025703 19.77716637 20.38646126  9.51493168 14.66712666\n",
            " 11.7389307  14.07954025 25.48100853 17.43328667 14.26957512 23.38965988\n",
            " 23.65651321 16.68297577 27.16455078 11.5529356   7.53793669 10.54039764\n",
            " 16.80262184 15.70467377 14.50722504 22.14617157  1.99296498  3.73191071\n",
            " 21.65287971 27.00068665  2.22781539 47.33857727 38.88427353 26.29219818\n",
            "  1.07135057]\n",
            "10000\n",
            "3 0.1748721668243408\n",
            "[14.64825821 34.83586884 35.87906647 33.06215668 36.39380264 29.45113754\n",
            " 33.19454575 23.27203369 12.80550385 27.43490601 16.86395264 23.28988266\n",
            " 31.94297409 14.60520744 12.02624798 30.80099487 32.8722229  20.4663887\n",
            " 14.72144318 13.62761879 13.52841187 34.604496   33.45295334 41.62843323\n",
            " 17.51826286 21.49156189 11.04651928 29.07089043 20.905159   26.03855324\n",
            " 28.95848465 34.48016357 12.05760956 18.72434044 16.3609848  21.77836227\n",
            "  9.05298138 18.67193604 38.17669296 27.1925354  15.48300743 26.21246529\n",
            " 20.00237465 19.17255974 19.1167984  22.0728569  17.48961258 11.49973583\n",
            " 40.29806519 16.08635712 27.20795059 29.56018448 13.70528507 12.24537945\n",
            " 10.64557934 18.69635963 29.24471664 12.8517437  13.50348091 27.95538139\n",
            " 27.55844116 23.15282059 25.62396812 10.93961239  9.48511696 11.20753765\n",
            " 18.35868073 16.93988609  8.01781845  6.7770648   4.00410128  4.79868603\n",
            " 23.84052658 33.57801056  1.49236    48.44849014 34.82598495 23.92340279\n",
            "  0.2645669 ]\n",
            "10000\n",
            "4 0.17032205156087876\n",
            "[16.16535378 27.78054237 51.13261414 34.21902466 24.26966858 25.33627129\n",
            " 16.87347984 21.88174438 14.57864285 39.85211182 17.51940346 20.68554878\n",
            " 20.33802032 16.77080727 12.29419231 16.71990013 36.77952194 26.12941933\n",
            " 16.64391708  9.46114731 16.32902908 31.20749855 32.91402435 48.00973129\n",
            " 15.67250061 20.00909233 15.56364346 28.2115078  24.95582008 19.3799839\n",
            " 21.15424919 35.69350433 11.22082901 18.38984489 19.36899948 20.59687042\n",
            "  9.38306332 22.01116753 39.72173691 14.63755226 16.02850723 16.44230843\n",
            " 17.13061142 18.44246101 24.29807281 19.00424004 18.70795441 10.46151447\n",
            " 33.02869415 17.89141273 20.39056206 25.09463692 14.75675869 14.51759911\n",
            " 12.35601997 20.09950638 19.44064903 15.08724022 13.58329296 21.02805328\n",
            " 24.82608795 19.21105003 22.75362778  6.42672253  9.29182148 15.47394276\n",
            " 13.44243813 14.93394089  9.33786774 12.74451447  2.82118678  8.05844212\n",
            " 16.07221794 35.0637207   2.2472012  45.16509628 32.24406052 19.29469299\n",
            "  0.56076348]\n",
            "10000\n",
            "5 0.16076214715242385\n",
            "[14.19734383 34.75065994 37.74247742 36.45353317 29.63119888 16.33827972\n",
            " 16.01093292 18.89264488 15.96496105 32.41552734 21.05855942 17.25930786\n",
            " 21.40716553  9.57607079  9.32732105 20.16035843 38.69475555 32.20489883\n",
            " 11.61021709  6.68894434  9.20156765 27.04671669 32.29105759 32.1310463\n",
            " 18.11700058 16.77462769 10.05521107 17.47121048 19.34683418 20.48129272\n",
            " 32.25299072 47.71222687 15.65621185 13.51083374  9.33070755 24.76504326\n",
            "  6.76075792 18.15658951 42.02970886 13.69086742 15.00303745 23.65426826\n",
            " 16.04513931 15.66376114 17.27239227 16.90081406 15.85575962 10.50722885\n",
            " 34.53559875 23.24589157 19.21129036 16.02322578 14.20090294 11.30728149\n",
            " 10.03219986 19.65159225 10.92171764  7.30537176 15.14022923 13.92457867\n",
            " 27.16790009 14.91969585 17.3722496   8.06539059  5.14238167  9.56258774\n",
            " 12.78346252 21.78217506  5.88133955  2.97973418  3.72414207  2.45785332\n",
            " 24.98674393 25.20736694  1.34763384 53.4786377  32.27970886 27.20158005\n",
            "  0.41277099]\n",
            "10000\n",
            "6 0.1490323296546936\n",
            "[ 8.47035217 25.82274437 30.13309288 30.78939056 20.50384521 17.46315765\n",
            " 15.92486286 11.96775723 10.5299511  32.06574631 15.3264904  15.13497829\n",
            " 21.05752373 12.64361668  7.26476336 16.88554955 37.54600143 24.44758987\n",
            " 14.96372986  8.71782303  6.96643066 21.90401268 25.9256897  35.89788437\n",
            " 10.86535645 14.80386829 10.10123062 15.83396339 28.38714981 22.58520317\n",
            " 22.7037735  34.27706146  3.77051997 13.61152554 13.01195812 23.70479393\n",
            "  5.96726227 21.29566002 34.98765564 15.36080837 11.77602863 14.59945679\n",
            " 13.67923069 12.13272667 19.4671402  13.67910576 10.91815567  7.93558073\n",
            " 24.70366096 15.48450851 21.06003571 21.53378677 11.38509941 10.77646637\n",
            "  8.81642532 10.44627094 14.77670097  8.92330933 14.62614632 17.19207573\n",
            " 22.70154953 16.07688522 16.89686203 10.80065155  4.78847218 10.10177994\n",
            " 10.85577869 11.27898312  7.51723909  8.80277538  2.33873153  4.69456673\n",
            " 13.45431614 22.11670113  1.57314312 40.38270187 30.63855743 27.33245087\n",
            "  0.55955321]\n",
            "10000\n",
            "7 0.1306444384753704\n",
            "[11.51610088 32.40363312 27.91591835 27.59798431 25.24456215 14.94942951\n",
            " 16.03653145 15.74829483  9.38197899 33.04430008 19.2383194  18.85759163\n",
            " 23.95909691  8.74215984  7.61815643 15.65095901 30.75436974 31.38602066\n",
            " 17.21912384  9.25005722  8.71068382 26.22128868 27.44956017 41.27245331\n",
            "  9.08635426 16.39030266 15.41219997 13.97390366 23.09298134 22.82672691\n",
            " 24.66216087 34.50292587  6.34401178 11.67903996  8.52359962 27.26458549\n",
            "  6.3084507  18.00163651 31.75733185 12.3563509  14.51790524 14.18853283\n",
            " 13.04853535 13.3442173  18.45525551 17.11988831 13.91352749  6.62159395\n",
            " 29.31837845 18.84709358 19.2687149  19.47105408 15.36499023 13.25649166\n",
            "  6.61651134 10.68701077 12.41588593  7.22897768 12.146101   15.0079155\n",
            " 20.32677841 14.94872093 12.17220211 10.04797554  4.23160553  8.99793148\n",
            " 10.12488079 10.13006401  4.45838928  3.95935869  2.41399169  1.34181225\n",
            " 14.71207428 29.17105293  1.06542778 45.13127899 30.79683685 27.32987213\n",
            "  0.5866124 ]\n",
            "10000\n",
            "8 0.1325136583864689\n",
            "[13.00570011 35.99530411 24.51519012 32.85342407 20.27764702 33.25928116\n",
            " 38.71287537 21.63483238  9.31422424 41.00630951 21.82975388 21.8140564\n",
            " 35.65678406 17.71858215 12.36894798 24.85429573 51.74452591 38.82619858\n",
            " 26.52490807 18.67250252 15.9530344  43.73726273 37.41964722 52.75170898\n",
            " 16.649086   18.70454025 12.89145756 26.24583054 33.07513046 30.85455513\n",
            " 28.96726799 39.02723694  6.33497667 22.51714897 15.63010311 26.19799995\n",
            "  9.10157204 42.24092102 46.21917725 15.88997269 14.12881565 24.61774445\n",
            " 16.99117279 17.59599876 21.97535324 12.05650616 13.35696697 11.58014584\n",
            " 38.31446075 20.95747185 29.34906387 43.99288559 21.01133728 16.29202271\n",
            " 12.5076437  15.50469589 32.14629364 15.96164894 23.6779995  25.12254333\n",
            " 25.69019508 24.70383453 17.95892525 20.16402435  4.83640909 10.00792694\n",
            " 16.91355324 18.8115387   7.31415176  8.05844498  3.42859483  2.15051675\n",
            " 12.04114723 37.82466125  1.91808343 50.16753387 51.15266418 37.51218414\n",
            "  0.35064673]\n",
            "10000\n",
            "9 0.18591397805213927\n"
          ]
        }
      ]
    },
    {
      "cell_type": "code",
      "source": [
        "dev = torch.device(\n",
        "    \"cuda\"\n",
        ") if torch.cuda.is_available() else torch.device(\"cpu\")"
      ],
      "metadata": {
        "id": "ldDI7To9S8sW"
      },
      "execution_count": 39,
      "outputs": []
    },
    {
      "cell_type": "code",
      "source": [
        "def preprocess(x, y):\n",
        "  return x.view(-1, 1, 28, 28).to(dev), y.to(dev)\n",
        "\n",
        "train_dl, valid_dl = get_data(train_ds, valid_ds, bs)\n",
        "train_dl = WrappedDataLoader(train_dl, preprocess)\n",
        "valid_dl = WrappedDataLoader(valid_dl, preprocess)\n",
        "\n",
        "model.to(dev)\n",
        "opt = optim.SGD(model.parameters(), lr=lr, momentum=0.7)\n",
        "fit(epochs, model, loss_func, opt, train_dl, valid_dl)\n"
      ],
      "metadata": {
        "colab": {
          "base_uri": "https://localhost:8080/"
        },
        "id": "wr7o9YppTJ8w",
        "outputId": "2a02930a-98ef-43bd-91f6-a86743771ccd"
      },
      "execution_count": 40,
      "outputs": [
        {
          "output_type": "stream",
          "name": "stdout",
          "text": [
            "[ 6.8333354  22.434412   26.67701149 22.63553238 17.04053307 10.53131008\n",
            " 18.72330475  7.7828722   6.07177782 30.23344421 16.48765182 15.53216267\n",
            " 21.01515579 10.24755192  5.144835   13.58961678 35.49266815 25.10624504\n",
            "  9.18055916  7.05905151  5.75934887 20.8334198  26.85352516 31.57366562\n",
            " 15.50551796 11.98204517  7.72721195 11.5459919  19.15439415 19.73321152\n",
            " 25.1672554  37.48277283  7.8896904  11.108078    8.71658897 20.49157143\n",
            "  2.70854497 20.29432106 30.49319267 11.78079033 10.26821613 15.4942503\n",
            " 13.62851906  8.45844555 17.56284332 10.90756035 11.18910027  7.27491808\n",
            " 21.95278931 15.22401619 15.15455627 18.62526512  8.08564568  8.8021574\n",
            "  5.14652681  9.42071438 12.04336166  5.334167   14.67649364  9.76002121\n",
            " 12.90055275  9.06708431 11.22444534  7.27125835  4.77355719  2.7875936\n",
            "  9.67180824  8.511446    2.88740349  5.33170033  1.85739744  3.2234962\n",
            "  9.16049099 21.61948776  1.27139461 47.72673416 28.65883827 21.10435486\n",
            "  0.18182571]\n",
            "10000\n",
            "0 0.11228606067448854\n",
            "[ 6.50685883 23.49702454 23.90523529 28.11564445 16.75917053  9.7492342\n",
            " 13.265172    9.52093601  5.40013313 29.11640167 15.75842667 20.5513382\n",
            " 22.4769268  11.35439491  4.74211264 11.7644825  39.53648758 21.53984451\n",
            "  9.57790184  8.62355328  4.97352552 20.81853867 25.81957054 32.73097992\n",
            " 11.53807449 12.58718777  9.60216045 11.39349747 20.89632034 17.18634033\n",
            " 19.4088192  36.35602951  4.89621687 11.33922768  8.08753109 22.29982567\n",
            "  2.85386634 19.90599823 24.80365753 13.77453804 10.51784801 12.12405396\n",
            " 11.90352249  5.89361238 17.59462166 15.99351883 10.81469059  4.21560431\n",
            " 21.56274986 14.77267265 13.60480309 17.7687912  10.51821709  8.47258472\n",
            "  6.25970268  8.46674252 10.2690258   4.83241749 14.957304   10.07575607\n",
            " 14.92664528  9.48199463 10.47731781  7.32139301  4.80637789  6.75695944\n",
            "  8.00208187  7.12053823  4.48865318  8.58868504  1.33279932  3.57695961\n",
            "  7.52922821 14.89909458  0.92448962 46.37551117 28.91006088 21.34082413\n",
            "  0.11734644]\n",
            "10000\n",
            "1 0.11006283849775791\n",
            "[ 8.48549843 20.67157936 20.0144577  21.91062737 20.63201523 10.50035381\n",
            " 24.80241585 10.94175243  4.26794195 25.79278183  9.94790936 21.84777832\n",
            " 25.98103905 12.36465073  7.55085754 12.62295341 37.54914474 22.98799324\n",
            "  6.79422855  6.87334204  6.00180769 20.45000267 30.04187012 31.00468445\n",
            " 13.61518288 13.49090481  6.84314203 14.61608124 19.86098862 16.7912941\n",
            " 19.25134468 35.36742401  5.53714418  6.5707078   8.10439682 22.53804016\n",
            "  3.47523999 12.56358814 24.52362823  7.9627142  12.38922977 13.36846924\n",
            " 16.1192131   8.79143333 20.17481422 21.38772202 10.91829205  5.76169205\n",
            " 26.33260727 13.32682991 14.54316425 18.35574341 11.38957787 12.03907681\n",
            "  7.29731131  8.50291061 14.42119217  8.35039234 16.55403519  7.9214325\n",
            " 15.07093143 10.42257977 11.21991158 10.09763145  3.6335516   8.29893208\n",
            "  8.21678829  7.72750139  4.23356295  5.68421936  2.15532947  1.83708858\n",
            "  8.72077751 22.35084724  1.21160185 47.5381012  30.55329895 22.72792053\n",
            "  0.12126628]\n",
            "10000\n",
            "2 0.11409164886772633\n",
            "[ 7.07644606 19.71961212 19.93947792 21.13126755 17.27802467  9.71307373\n",
            " 16.44715691  9.92625713  4.69158411 27.98137093 15.15047455 18.45705795\n",
            " 21.30056572  7.86640024  5.78522158 12.31092167 34.35477066 22.38559914\n",
            "  6.87041378  7.76222754  4.1262722  19.75170708 26.51103592 29.39110756\n",
            " 13.2012949  11.63241768  8.24282265 10.51151371 15.90165424 16.34532166\n",
            " 21.43486404 34.53110504  5.14854431  8.03125381  6.68780136 23.81100845\n",
            "  1.84821796 14.84892178 24.31497002  8.70700455 11.07827759 14.40089321\n",
            " 12.87184048  5.67456007 16.11651421 14.52027035 10.61967182  4.92143822\n",
            " 20.3230629  12.87166214 14.8081646  16.07540894  9.59704494  8.74231148\n",
            "  6.58981609  8.75256443  8.83124161  4.92274141 14.1738596   8.77140331\n",
            " 13.59020519  8.67222595  7.55849457  7.77009201  3.43785906  5.49569988\n",
            "  5.66864872  7.91176939  2.9226048   3.16216969  1.49554133  1.88606656\n",
            "  9.57011223 14.81902981  0.69454122 49.03003693 28.20570374 24.8886776\n",
            "  0.1701418 ]\n",
            "10000\n",
            "3 0.10327391307204961\n",
            "[ 7.77611685 23.28009605 24.66536522 26.94871712 17.50831413  9.81384659\n",
            " 18.68412781 12.07194614  5.07037592 25.85569954 15.19482803 22.27531242\n",
            " 22.20430183 12.35529137  6.37229586 10.29821587 42.70397568 18.39397812\n",
            "  7.24862528 10.61584663  4.65339231 22.3842926  32.94938278 40.39325714\n",
            " 15.435606   11.56190109  8.52101612 13.18789673 19.55297089 12.30485725\n",
            " 22.33268738 43.56394958  8.30431938 10.58839035  8.61760998 23.02741623\n",
            "  3.29295802 14.48245907 22.73746872 10.3633585  12.64065266 12.42565346\n",
            " 12.94832325  8.33117199 20.17088318 20.22273254 14.50899029  4.43999338\n",
            " 25.58888435 12.20393562 11.87211895 17.13924599  9.65528011  9.08016586\n",
            "  9.64488888  8.02183247 11.54989719  6.47581577 19.33937073  9.42158031\n",
            " 15.50233364 10.32705021 11.11767197  6.35013866  4.08249903  7.6046896\n",
            "  5.39204216  8.98098087  5.87264252  5.97870159  2.42168117  2.05624008\n",
            "  9.397789   19.77874565  1.03120577 54.96203232 33.91280746 20.52687645\n",
            "  0.0957693 ]\n",
            "10000\n",
            "4 0.11686657810360193\n",
            "[ 7.70741653 19.86358261 25.46375084 23.9076519  15.96982765  7.9191885\n",
            " 17.55345535  8.27053738  5.98519564 29.30360031 15.02945518 17.93702507\n",
            " 20.30768585 12.88744831  5.03195238 14.11137009 38.21866989 26.27876282\n",
            "  8.16666794  6.0822525   5.08290434 19.78544998 27.27655411 26.31536674\n",
            " 14.90733337 11.37559795  5.84737492 11.42592621 16.58798027 19.25947952\n",
            " 24.24203873 39.1496315   7.49264908 11.19436932  7.65065479 23.44014359\n",
            "  2.27854824 20.71934319 31.48164177 12.05504036 10.42490292 17.29131317\n",
            " 12.44402122  7.91680813 14.2929306  11.43357944  9.88145924  5.55194902\n",
            " 20.32482338 15.3890295  14.47332668 19.98237801  9.604249    8.33572006\n",
            "  5.20824432 10.09694862 11.90875435  5.23537302 18.75869751  8.85294056\n",
            " 15.3454628   8.01825047  9.14575005  7.36415958  3.07478738  3.21103048\n",
            "  8.96800709  6.80164385  2.87163877  6.7629528   1.27826405  3.21232343\n",
            "  9.64114189 19.15073013  0.77373594 47.56472778 29.38052368 21.90790939\n",
            "  0.1345814 ]\n",
            "10000\n",
            "5 0.11055785944610834\n",
            "[ 8.68381882 21.27492714 21.34986687 21.81425285 24.86823463 11.55405426\n",
            " 20.69876671 10.68087101  6.03485632 30.57551384 13.95006657 18.8245163\n",
            " 18.65376282  9.43793964  6.21275663 15.29140568 34.68833542 31.82048988\n",
            "  7.42313576  4.39519548  4.4920249  15.6583128  26.24570847 28.49458504\n",
            " 11.67196369 14.00905514  7.11351299  9.4440794  17.05312157 19.40275383\n",
            " 24.85805511 36.45598602  7.62831688  6.99114275  7.65927315 23.53233719\n",
            "  2.49295878 14.33895302 30.01499748  8.5751009  11.72767639 19.11157227\n",
            " 12.13305473  9.7692976  19.07002068 13.79034233  9.61829948  5.54819536\n",
            " 21.51230431 14.152071   15.55849934 16.90193939 11.92734337 10.51641369\n",
            "  4.51516056 11.29675198 10.27570438  5.53520823 15.39203548 10.29921913\n",
            " 19.51690102  9.71779442  7.23853827  7.75959682  1.65781605  5.54185486\n",
            " 10.45293331  8.77022839  2.11868787  2.11576271  1.58140528  3.11124253\n",
            " 12.16268539 20.0738945   0.63861394 48.03141403 28.43405151 27.97039413\n",
            "  0.15008304]\n",
            "10000\n",
            "6 0.11200600135028363\n",
            "[ 8.35227203 19.87584686 17.73332405 21.58901024 16.71350288  9.93886852\n",
            " 16.54690742 12.47422028  4.45655584 30.81010246 17.14016914 17.05700874\n",
            " 24.586689    8.96333313  5.34945726 12.96464729 35.06980133 22.24057579\n",
            "  9.09937859  8.77707291  5.31855202 21.97967339 29.76135254 26.23103142\n",
            " 10.62875557 14.0586071   7.51123571  9.69922733 16.33676338 14.65036011\n",
            " 22.59693336 39.06280518  6.05617285  7.27921724  7.48496866 25.1549511\n",
            "  2.52573514 15.75575829 25.67678261  9.59229374 12.53868389 16.31682968\n",
            " 14.15334702  6.54293346 17.69195175 14.79842949 11.20696449  4.65125179\n",
            " 19.25037575 14.46729374 17.11012077 15.97479916 12.72421265 10.73680019\n",
            "  3.92792845  9.11435032  9.17660618  3.20820951 14.01914215  8.23715878\n",
            " 15.78075695  7.44637918  8.66316795  5.26309729  4.28452158  8.54325485\n",
            "  5.0402422   6.72139883  2.42538691  2.34419584  0.86979741  1.69669545\n",
            "  7.50984335 20.82481956  0.70263255 50.18805313 29.36965942 22.52749634\n",
            "  0.10739337]\n",
            "10000\n",
            "7 0.10732561018913984\n",
            "[ 6.74285793 17.3403511  22.41093636 21.49988747 19.18651199  6.25232601\n",
            " 17.84667778 11.4431324   4.88564968 24.73747253 15.71209049 19.71052933\n",
            " 20.21177864 10.31486797  5.06916285 14.84869385 36.56203842 21.43839645\n",
            "  4.88144636  6.51438713  2.9614017  16.03982735 30.18374825 27.34313774\n",
            " 12.67054272 11.29259777  5.56107616 10.32244682 13.61212254 14.13026237\n",
            " 28.47728348 40.7832489   8.75692654  7.68859863  5.24381828 22.08024979\n",
            "  2.08653235 13.23437881 26.7510643   9.66808033 12.89099789 15.49303913\n",
            " 13.86346626  8.40174389 15.89862442 16.10990906 11.47907162  5.13677168\n",
            " 22.6409626  13.36535358 13.92585373 15.79696083  8.21892738  7.99769402\n",
            "  6.69165945  9.65955639  8.25867558  4.14633226 19.07072449  7.42612886\n",
            " 16.36229515  8.71879864  7.80280352  5.40224552  4.24518108  6.10278034\n",
            "  5.48755598  6.49686384  2.19095278  2.13704634  1.84547877  2.69134235\n",
            " 10.08540344 20.19820023  0.82896727 53.09476852 27.58097839 23.2295723\n",
            "  0.08036798]\n",
            "10000\n",
            "8 0.1057550595164299\n",
            "[ 9.28763199 18.29012108 21.5484848  18.81668282 15.56284142  7.94249439\n",
            " 19.62120438  9.94298363  4.41328764 27.6440239  14.37960052 17.44654083\n",
            " 19.14948082  8.8221674   6.09622765 12.90885258 37.13451385 24.80599213\n",
            "  6.42575932  7.09137869  5.24191904 14.14707088 29.12460327 24.83836555\n",
            " 17.05464363 11.98296642  6.55439138 10.55367279 14.03826332 13.07413292\n",
            " 22.74825096 43.54959488  9.62215233  7.97297621  7.21971178 23.21392632\n",
            "  2.10356665 14.22348309 25.40019798 10.68759537 14.10294056 15.12722969\n",
            " 13.77905273  7.18014574 15.75158405 12.92335796 13.33069515  5.88225365\n",
            " 16.51933479 12.74410534 12.95216751 15.47584343  9.13305283 10.17588806\n",
            "  5.80521107 10.06630325  8.38172245  4.16886806 20.50385857  8.0264864\n",
            " 16.72896004  6.16057253  6.83177757  5.97761536  4.57839108  5.78234625\n",
            "  6.39470005  5.94691706  2.85700941  3.4021914   1.62996936  2.00842214\n",
            "  7.8785243  19.80531311  0.79060185 49.99548721 27.12883377 22.42631531\n",
            "  0.12681714]\n",
            "10000\n",
            "9 0.10491626208126545\n"
          ]
        }
      ]
    },
    {
      "cell_type": "markdown",
      "source": [
        "### Summarize:\n",
        "1. `Torch.nn:`\n",
        "    1. `Module:` Creates a callable which behaves like a function, but can also contain state(such as neural netlayer weights)\n",
        "      It knows what parameters it contains and can zero all their gradients, loop through them for weight updates.\n",
        "    2. `Parameter:` A wrapper for a tensor that tells a Module it has weights that needs updating during backprop. Only tensors with the requires_grad attribute set are updated.\n",
        "    3. `Functional:` A module(usually imported in to the F namespace by convention) which contains activation functions, loss functions, etc. as well as non-stateful versions of layers such as convolutional and linear layers\n",
        "2. `torch.optim:` Contains optimizers such as SGD which update the weights of parameter during the backward step\n",
        "3. `Dataset:` An abstract interface of objects with a __len__ and a __getitem__, including classes provided with Pytorch such as `TensorDataset`\n",
        "4. `DataLoader:` Takes any Dataset and creates an iterator which returns batches of data"
      ],
      "metadata": {
        "id": "QTZJltNRTjat"
      }
    },
    {
      "cell_type": "code",
      "source": [],
      "metadata": {
        "id": "sBJmXsFxThDi"
      },
      "execution_count": null,
      "outputs": []
    }
  ]
}